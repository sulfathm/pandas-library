{
 "cells": [
  {
   "cell_type": "code",
   "execution_count": null,
   "id": "a799d759",
   "metadata": {},
   "outputs": [],
   "source": []
  },
  {
   "cell_type": "code",
   "execution_count": 2,
   "id": "495a9737",
   "metadata": {},
   "outputs": [],
   "source": [
    "import pandas as pd\n",
    "import numpy as np"
   ]
  },
  {
   "cell_type": "code",
   "execution_count": 4,
   "id": "d51eeda2",
   "metadata": {},
   "outputs": [
    {
     "data": {
      "text/plain": [
       "0    1.0\n",
       "1    5.0\n",
       "2    6.0\n",
       "3    3.0\n",
       "4    NaN\n",
       "5    4.0\n",
       "6    0.0\n",
       "dtype: float64"
      ]
     },
     "execution_count": 4,
     "metadata": {},
     "output_type": "execute_result"
    }
   ],
   "source": [
    "p=pd.Series([1,5,6,3,np.nan,4,0])\n",
    "p"
   ]
  },
  {
   "cell_type": "code",
   "execution_count": 7,
   "id": "da82f454",
   "metadata": {},
   "outputs": [
    {
     "data": {
      "text/plain": [
       "DatetimeIndex(['2020-01-08', '2020-01-09', '2020-01-10', '2020-01-11',\n",
       "               '2020-01-12', '2020-01-13', '2020-01-14', '2020-01-15'],\n",
       "              dtype='datetime64[ns]', freq='D')"
      ]
     },
     "execution_count": 7,
     "metadata": {},
     "output_type": "execute_result"
    }
   ],
   "source": [
    "d=pd.date_range('20200108',periods=8)\n",
    "d"
   ]
  },
  {
   "cell_type": "code",
   "execution_count": 9,
   "id": "b7fbe5fb",
   "metadata": {},
   "outputs": [
    {
     "data": {
      "text/html": [
       "<div>\n",
       "<style scoped>\n",
       "    .dataframe tbody tr th:only-of-type {\n",
       "        vertical-align: middle;\n",
       "    }\n",
       "\n",
       "    .dataframe tbody tr th {\n",
       "        vertical-align: top;\n",
       "    }\n",
       "\n",
       "    .dataframe thead th {\n",
       "        text-align: right;\n",
       "    }\n",
       "</style>\n",
       "<table border=\"1\" class=\"dataframe\">\n",
       "  <thead>\n",
       "    <tr style=\"text-align: right;\">\n",
       "      <th></th>\n",
       "      <th>A</th>\n",
       "      <th>B</th>\n",
       "      <th>C</th>\n",
       "      <th>D</th>\n",
       "    </tr>\n",
       "  </thead>\n",
       "  <tbody>\n",
       "    <tr>\n",
       "      <th>2020-01-08</th>\n",
       "      <td>0.946771</td>\n",
       "      <td>0.205985</td>\n",
       "      <td>-0.000290</td>\n",
       "      <td>-1.198105</td>\n",
       "    </tr>\n",
       "    <tr>\n",
       "      <th>2020-01-09</th>\n",
       "      <td>-0.312658</td>\n",
       "      <td>1.832525</td>\n",
       "      <td>-0.531788</td>\n",
       "      <td>0.489869</td>\n",
       "    </tr>\n",
       "    <tr>\n",
       "      <th>2020-01-10</th>\n",
       "      <td>-0.374147</td>\n",
       "      <td>-0.369866</td>\n",
       "      <td>0.862907</td>\n",
       "      <td>-0.426001</td>\n",
       "    </tr>\n",
       "    <tr>\n",
       "      <th>2020-01-11</th>\n",
       "      <td>0.492963</td>\n",
       "      <td>1.007420</td>\n",
       "      <td>1.041828</td>\n",
       "      <td>1.081831</td>\n",
       "    </tr>\n",
       "    <tr>\n",
       "      <th>2020-01-12</th>\n",
       "      <td>0.022112</td>\n",
       "      <td>-0.303911</td>\n",
       "      <td>2.364840</td>\n",
       "      <td>-1.161379</td>\n",
       "    </tr>\n",
       "    <tr>\n",
       "      <th>2020-01-13</th>\n",
       "      <td>-3.496409</td>\n",
       "      <td>-0.492780</td>\n",
       "      <td>-0.364589</td>\n",
       "      <td>-0.701185</td>\n",
       "    </tr>\n",
       "    <tr>\n",
       "      <th>2020-01-14</th>\n",
       "      <td>2.141692</td>\n",
       "      <td>-0.318673</td>\n",
       "      <td>-0.654625</td>\n",
       "      <td>-2.529326</td>\n",
       "    </tr>\n",
       "    <tr>\n",
       "      <th>2020-01-15</th>\n",
       "      <td>0.279280</td>\n",
       "      <td>-0.285955</td>\n",
       "      <td>-1.205940</td>\n",
       "      <td>-0.533955</td>\n",
       "    </tr>\n",
       "  </tbody>\n",
       "</table>\n",
       "</div>"
      ],
      "text/plain": [
       "                   A         B         C         D\n",
       "2020-01-08  0.946771  0.205985 -0.000290 -1.198105\n",
       "2020-01-09 -0.312658  1.832525 -0.531788  0.489869\n",
       "2020-01-10 -0.374147 -0.369866  0.862907 -0.426001\n",
       "2020-01-11  0.492963  1.007420  1.041828  1.081831\n",
       "2020-01-12  0.022112 -0.303911  2.364840 -1.161379\n",
       "2020-01-13 -3.496409 -0.492780 -0.364589 -0.701185\n",
       "2020-01-14  2.141692 -0.318673 -0.654625 -2.529326\n",
       "2020-01-15  0.279280 -0.285955 -1.205940 -0.533955"
      ]
     },
     "execution_count": 9,
     "metadata": {},
     "output_type": "execute_result"
    }
   ],
   "source": [
    "df3=pd.DataFrame(np.random.randn(8,4),index=d,columns=['A','B','C','D'])\n",
    "df3"
   ]
  },
  {
   "cell_type": "code",
   "execution_count": 12,
   "id": "d9b3be9b",
   "metadata": {},
   "outputs": [
    {
     "data": {
      "text/html": [
       "<div>\n",
       "<style scoped>\n",
       "    .dataframe tbody tr th:only-of-type {\n",
       "        vertical-align: middle;\n",
       "    }\n",
       "\n",
       "    .dataframe tbody tr th {\n",
       "        vertical-align: top;\n",
       "    }\n",
       "\n",
       "    .dataframe thead th {\n",
       "        text-align: right;\n",
       "    }\n",
       "</style>\n",
       "<table border=\"1\" class=\"dataframe\">\n",
       "  <thead>\n",
       "    <tr style=\"text-align: right;\">\n",
       "      <th></th>\n",
       "      <th>B</th>\n",
       "      <th>C</th>\n",
       "      <th>D</th>\n",
       "    </tr>\n",
       "    <tr>\n",
       "      <th>A</th>\n",
       "      <th></th>\n",
       "      <th></th>\n",
       "      <th></th>\n",
       "    </tr>\n",
       "  </thead>\n",
       "  <tbody>\n",
       "    <tr>\n",
       "      <th>-3.496409</th>\n",
       "      <td>-0.492780</td>\n",
       "      <td>-0.364589</td>\n",
       "      <td>-0.701185</td>\n",
       "    </tr>\n",
       "    <tr>\n",
       "      <th>-0.374147</th>\n",
       "      <td>-0.369866</td>\n",
       "      <td>0.862907</td>\n",
       "      <td>-0.426001</td>\n",
       "    </tr>\n",
       "    <tr>\n",
       "      <th>-0.312658</th>\n",
       "      <td>1.832525</td>\n",
       "      <td>-0.531788</td>\n",
       "      <td>0.489869</td>\n",
       "    </tr>\n",
       "    <tr>\n",
       "      <th>0.022112</th>\n",
       "      <td>-0.303911</td>\n",
       "      <td>2.364840</td>\n",
       "      <td>-1.161379</td>\n",
       "    </tr>\n",
       "    <tr>\n",
       "      <th>0.279280</th>\n",
       "      <td>-0.285955</td>\n",
       "      <td>-1.205940</td>\n",
       "      <td>-0.533955</td>\n",
       "    </tr>\n",
       "    <tr>\n",
       "      <th>0.492963</th>\n",
       "      <td>1.007420</td>\n",
       "      <td>1.041828</td>\n",
       "      <td>1.081831</td>\n",
       "    </tr>\n",
       "    <tr>\n",
       "      <th>0.946771</th>\n",
       "      <td>0.205985</td>\n",
       "      <td>-0.000290</td>\n",
       "      <td>-1.198105</td>\n",
       "    </tr>\n",
       "    <tr>\n",
       "      <th>2.141692</th>\n",
       "      <td>-0.318673</td>\n",
       "      <td>-0.654625</td>\n",
       "      <td>-2.529326</td>\n",
       "    </tr>\n",
       "  </tbody>\n",
       "</table>\n",
       "</div>"
      ],
      "text/plain": [
       "                  B         C         D\n",
       "A                                      \n",
       "-3.496409 -0.492780 -0.364589 -0.701185\n",
       "-0.374147 -0.369866  0.862907 -0.426001\n",
       "-0.312658  1.832525 -0.531788  0.489869\n",
       " 0.022112 -0.303911  2.364840 -1.161379\n",
       " 0.279280 -0.285955 -1.205940 -0.533955\n",
       " 0.492963  1.007420  1.041828  1.081831\n",
       " 0.946771  0.205985 -0.000290 -1.198105\n",
       " 2.141692 -0.318673 -0.654625 -2.529326"
      ]
     },
     "execution_count": 12,
     "metadata": {},
     "output_type": "execute_result"
    }
   ],
   "source": [
    "df3.groupby([\"A\"]).sum()"
   ]
  },
  {
   "cell_type": "code",
   "execution_count": null,
   "id": "c28a371f",
   "metadata": {},
   "outputs": [],
   "source": []
  }
 ],
 "metadata": {
  "kernelspec": {
   "display_name": "Python 3 (ipykernel)",
   "language": "python",
   "name": "python3"
  },
  "language_info": {
   "codemirror_mode": {
    "name": "ipython",
    "version": 3
   },
   "file_extension": ".py",
   "mimetype": "text/x-python",
   "name": "python",
   "nbconvert_exporter": "python",
   "pygments_lexer": "ipython3",
   "version": "3.9.13"
  }
 },
 "nbformat": 4,
 "nbformat_minor": 5
}
