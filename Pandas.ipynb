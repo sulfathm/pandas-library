{
 "cells": [
  {
   "cell_type": "code",
   "execution_count": 2,
   "id": "e2f5f966",
   "metadata": {},
   "outputs": [],
   "source": [
    "import pandas as pd\n",
    "import numpy as np"
   ]
  },
  {
   "cell_type": "code",
   "execution_count": 5,
   "id": "23167e14",
   "metadata": {},
   "outputs": [
    {
     "data": {
      "text/plain": [
       "0     1.0\n",
       "1     2.0\n",
       "2     3.0\n",
       "3     4.0\n",
       "4     5.0\n",
       "5     6.0\n",
       "6     NaN\n",
       "7     8.0\n",
       "8     9.0\n",
       "9    10.0\n",
       "dtype: float64"
      ]
     },
     "execution_count": 5,
     "metadata": {},
     "output_type": "execute_result"
    }
   ],
   "source": [
    "#to creat series\n",
    "#np.nan is a null value\n",
    "\n",
    "s=pd.Series([1,2,3,4,5,6,np.nan,8,9,10])\n",
    "s"
   ]
  },
  {
   "cell_type": "code",
   "execution_count": 3,
   "id": "84e6e2c4",
   "metadata": {},
   "outputs": [
    {
     "data": {
      "text/plain": [
       "DatetimeIndex(['2021-09-28', '2021-09-29', '2021-09-30', '2021-10-01',\n",
       "               '2021-10-02', '2021-10-03', '2021-10-04', '2021-10-05',\n",
       "               '2021-10-06', '2021-10-07'],\n",
       "              dtype='datetime64[ns]', freq='D')"
      ]
     },
     "execution_count": 3,
     "metadata": {},
     "output_type": "execute_result"
    }
   ],
   "source": [
    "# to create a dataframe by passing a numpy array with datetime index and label columns.\n",
    "\n",
    "\n",
    "d=pd.date_range('20210928',periods=10)\n",
    "d"
   ]
  },
  {
   "cell_type": "code",
   "execution_count": 5,
   "id": "68241914",
   "metadata": {},
   "outputs": [
    {
     "data": {
      "text/html": [
       "<div>\n",
       "<style scoped>\n",
       "    .dataframe tbody tr th:only-of-type {\n",
       "        vertical-align: middle;\n",
       "    }\n",
       "\n",
       "    .dataframe tbody tr th {\n",
       "        vertical-align: top;\n",
       "    }\n",
       "\n",
       "    .dataframe thead th {\n",
       "        text-align: right;\n",
       "    }\n",
       "</style>\n",
       "<table border=\"1\" class=\"dataframe\">\n",
       "  <thead>\n",
       "    <tr style=\"text-align: right;\">\n",
       "      <th></th>\n",
       "      <th>A</th>\n",
       "      <th>B</th>\n",
       "      <th>C</th>\n",
       "      <th>D</th>\n",
       "      <th>C</th>\n",
       "    </tr>\n",
       "  </thead>\n",
       "  <tbody>\n",
       "    <tr>\n",
       "      <th>2021-09-28</th>\n",
       "      <td>-1.711688</td>\n",
       "      <td>0.009222</td>\n",
       "      <td>-1.757084</td>\n",
       "      <td>1.829052</td>\n",
       "      <td>-1.101218</td>\n",
       "    </tr>\n",
       "    <tr>\n",
       "      <th>2021-09-29</th>\n",
       "      <td>-0.598956</td>\n",
       "      <td>0.720413</td>\n",
       "      <td>1.110769</td>\n",
       "      <td>-1.175111</td>\n",
       "      <td>1.831220</td>\n",
       "    </tr>\n",
       "    <tr>\n",
       "      <th>2021-09-30</th>\n",
       "      <td>-0.062110</td>\n",
       "      <td>0.802515</td>\n",
       "      <td>0.587444</td>\n",
       "      <td>0.396901</td>\n",
       "      <td>-1.851869</td>\n",
       "    </tr>\n",
       "    <tr>\n",
       "      <th>2021-10-01</th>\n",
       "      <td>-0.416718</td>\n",
       "      <td>1.372512</td>\n",
       "      <td>-1.845796</td>\n",
       "      <td>0.692721</td>\n",
       "      <td>0.607820</td>\n",
       "    </tr>\n",
       "    <tr>\n",
       "      <th>2021-10-02</th>\n",
       "      <td>-0.125185</td>\n",
       "      <td>0.782413</td>\n",
       "      <td>0.346304</td>\n",
       "      <td>-0.435494</td>\n",
       "      <td>-1.579208</td>\n",
       "    </tr>\n",
       "    <tr>\n",
       "      <th>2021-10-03</th>\n",
       "      <td>1.887523</td>\n",
       "      <td>1.533355</td>\n",
       "      <td>0.408370</td>\n",
       "      <td>-0.262966</td>\n",
       "      <td>-1.517055</td>\n",
       "    </tr>\n",
       "    <tr>\n",
       "      <th>2021-10-04</th>\n",
       "      <td>-0.322466</td>\n",
       "      <td>1.608162</td>\n",
       "      <td>0.900126</td>\n",
       "      <td>-1.402882</td>\n",
       "      <td>0.221629</td>\n",
       "    </tr>\n",
       "    <tr>\n",
       "      <th>2021-10-05</th>\n",
       "      <td>-0.056659</td>\n",
       "      <td>0.362808</td>\n",
       "      <td>-0.343793</td>\n",
       "      <td>1.126242</td>\n",
       "      <td>-0.359842</td>\n",
       "    </tr>\n",
       "    <tr>\n",
       "      <th>2021-10-06</th>\n",
       "      <td>-1.157805</td>\n",
       "      <td>0.271061</td>\n",
       "      <td>1.294101</td>\n",
       "      <td>1.387262</td>\n",
       "      <td>-2.041842</td>\n",
       "    </tr>\n",
       "    <tr>\n",
       "      <th>2021-10-07</th>\n",
       "      <td>1.218262</td>\n",
       "      <td>-0.415006</td>\n",
       "      <td>0.929845</td>\n",
       "      <td>-0.178496</td>\n",
       "      <td>0.847613</td>\n",
       "    </tr>\n",
       "  </tbody>\n",
       "</table>\n",
       "</div>"
      ],
      "text/plain": [
       "                   A         B         C         D         C\n",
       "2021-09-28 -1.711688  0.009222 -1.757084  1.829052 -1.101218\n",
       "2021-09-29 -0.598956  0.720413  1.110769 -1.175111  1.831220\n",
       "2021-09-30 -0.062110  0.802515  0.587444  0.396901 -1.851869\n",
       "2021-10-01 -0.416718  1.372512 -1.845796  0.692721  0.607820\n",
       "2021-10-02 -0.125185  0.782413  0.346304 -0.435494 -1.579208\n",
       "2021-10-03  1.887523  1.533355  0.408370 -0.262966 -1.517055\n",
       "2021-10-04 -0.322466  1.608162  0.900126 -1.402882  0.221629\n",
       "2021-10-05 -0.056659  0.362808 -0.343793  1.126242 -0.359842\n",
       "2021-10-06 -1.157805  0.271061  1.294101  1.387262 -2.041842\n",
       "2021-10-07  1.218262 -0.415006  0.929845 -0.178496  0.847613"
      ]
     },
     "execution_count": 5,
     "metadata": {},
     "output_type": "execute_result"
    }
   ],
   "source": [
    "# to create a dataframe\n",
    "# the np.random.randn() function creats an array of specified shape and fills it with random value as per standared normal distribution.\n",
    "#column name with labels A,B,C,D\n",
    "#index of the dataframe is the d and it contains datetime index\n",
    "\n",
    "\n",
    "df=pd.DataFrame(np.random.randn(10,5),index=d,columns=['A','B','C','D','C'])\n",
    "df"
   ]
  },
  {
   "cell_type": "code",
   "execution_count": 8,
   "id": "518a6e87",
   "metadata": {},
   "outputs": [
    {
     "data": {
      "text/html": [
       "<div>\n",
       "<style scoped>\n",
       "    .dataframe tbody tr th:only-of-type {\n",
       "        vertical-align: middle;\n",
       "    }\n",
       "\n",
       "    .dataframe tbody tr th {\n",
       "        vertical-align: top;\n",
       "    }\n",
       "\n",
       "    .dataframe thead th {\n",
       "        text-align: right;\n",
       "    }\n",
       "</style>\n",
       "<table border=\"1\" class=\"dataframe\">\n",
       "  <thead>\n",
       "    <tr style=\"text-align: right;\">\n",
       "      <th></th>\n",
       "      <th>A</th>\n",
       "      <th>B</th>\n",
       "      <th>C</th>\n",
       "      <th>D</th>\n",
       "      <th>E</th>\n",
       "      <th>F</th>\n",
       "    </tr>\n",
       "  </thead>\n",
       "  <tbody>\n",
       "    <tr>\n",
       "      <th>0</th>\n",
       "      <td>1</td>\n",
       "      <td>2021-09-28</td>\n",
       "      <td>1.0</td>\n",
       "      <td>5</td>\n",
       "      <td>true</td>\n",
       "      <td>Pandas</td>\n",
       "    </tr>\n",
       "    <tr>\n",
       "      <th>1</th>\n",
       "      <td>2</td>\n",
       "      <td>2021-09-28</td>\n",
       "      <td>1.0</td>\n",
       "      <td>5</td>\n",
       "      <td>false</td>\n",
       "      <td>Pandas</td>\n",
       "    </tr>\n",
       "    <tr>\n",
       "      <th>2</th>\n",
       "      <td>3</td>\n",
       "      <td>2021-09-28</td>\n",
       "      <td>1.0</td>\n",
       "      <td>5</td>\n",
       "      <td>true</td>\n",
       "      <td>Pandas</td>\n",
       "    </tr>\n",
       "    <tr>\n",
       "      <th>3</th>\n",
       "      <td>4</td>\n",
       "      <td>2021-09-28</td>\n",
       "      <td>1.0</td>\n",
       "      <td>5</td>\n",
       "      <td>false</td>\n",
       "      <td>Pandas</td>\n",
       "    </tr>\n",
       "  </tbody>\n",
       "</table>\n",
       "</div>"
      ],
      "text/plain": [
       "   A          B    C  D      E       F\n",
       "0  1 2021-09-28  1.0  5   true  Pandas\n",
       "1  2 2021-09-28  1.0  5  false  Pandas\n",
       "2  3 2021-09-28  1.0  5   true  Pandas\n",
       "3  4 2021-09-28  1.0  5  false  Pandas"
      ]
     },
     "execution_count": 8,
     "metadata": {},
     "output_type": "execute_result"
    }
   ],
   "source": [
    "# create a dtaframe by passing a dictionary of objects and it converted in to a series.\n",
    "\n",
    "df1=pd.DataFrame({'A':[1,2,3,4],\n",
    "                 'B':pd.Timestamp('20210928'),\n",
    "                 'C':pd.Series(1,index=list(range(4)),dtype='float32'),\n",
    "                 'D':np.array([5]*4,dtype='int32'),\n",
    "                 'E':pd.Categorical(['true','false','true','false']),\n",
    "                 'F':'Pandas'})\n",
    "df1"
   ]
  },
  {
   "cell_type": "code",
   "execution_count": 10,
   "id": "d3117497",
   "metadata": {},
   "outputs": [
    {
     "data": {
      "text/plain": [
       "A             int64\n",
       "B    datetime64[ns]\n",
       "c           float32\n",
       "D             int32\n",
       "E          category\n",
       "F            object\n",
       "dtype: object"
      ]
     },
     "execution_count": 10,
     "metadata": {},
     "output_type": "execute_result"
    }
   ],
   "source": [
    "#to check the datatype\n",
    "\n",
    "df1.dtypes"
   ]
  },
  {
   "cell_type": "code",
   "execution_count": 11,
   "id": "8d5d36d6",
   "metadata": {},
   "outputs": [
    {
     "data": {
      "text/plain": [
       "A    float64\n",
       "B    float64\n",
       "C    float64\n",
       "D    float64\n",
       "dtype: object"
      ]
     },
     "execution_count": 11,
     "metadata": {},
     "output_type": "execute_result"
    }
   ],
   "source": [
    "df.dtypes"
   ]
  },
  {
   "cell_type": "code",
   "execution_count": 12,
   "id": "07a18ab7",
   "metadata": {},
   "outputs": [
    {
     "data": {
      "text/html": [
       "<div>\n",
       "<style scoped>\n",
       "    .dataframe tbody tr th:only-of-type {\n",
       "        vertical-align: middle;\n",
       "    }\n",
       "\n",
       "    .dataframe tbody tr th {\n",
       "        vertical-align: top;\n",
       "    }\n",
       "\n",
       "    .dataframe thead th {\n",
       "        text-align: right;\n",
       "    }\n",
       "</style>\n",
       "<table border=\"1\" class=\"dataframe\">\n",
       "  <thead>\n",
       "    <tr style=\"text-align: right;\">\n",
       "      <th></th>\n",
       "      <th>A</th>\n",
       "      <th>B</th>\n",
       "      <th>C</th>\n",
       "      <th>D</th>\n",
       "    </tr>\n",
       "  </thead>\n",
       "  <tbody>\n",
       "    <tr>\n",
       "      <th>2021-09-28</th>\n",
       "      <td>-1.173122</td>\n",
       "      <td>0.223985</td>\n",
       "      <td>0.407908</td>\n",
       "      <td>0.813180</td>\n",
       "    </tr>\n",
       "    <tr>\n",
       "      <th>2021-09-29</th>\n",
       "      <td>0.612146</td>\n",
       "      <td>-0.288333</td>\n",
       "      <td>-0.497924</td>\n",
       "      <td>0.583481</td>\n",
       "    </tr>\n",
       "    <tr>\n",
       "      <th>2021-09-30</th>\n",
       "      <td>-0.719154</td>\n",
       "      <td>1.042569</td>\n",
       "      <td>0.519099</td>\n",
       "      <td>-1.132639</td>\n",
       "    </tr>\n",
       "    <tr>\n",
       "      <th>2021-10-01</th>\n",
       "      <td>0.135311</td>\n",
       "      <td>0.956756</td>\n",
       "      <td>0.341884</td>\n",
       "      <td>1.076625</td>\n",
       "    </tr>\n",
       "    <tr>\n",
       "      <th>2021-10-02</th>\n",
       "      <td>-0.409616</td>\n",
       "      <td>1.265521</td>\n",
       "      <td>0.335959</td>\n",
       "      <td>0.888961</td>\n",
       "    </tr>\n",
       "  </tbody>\n",
       "</table>\n",
       "</div>"
      ],
      "text/plain": [
       "                   A         B         C         D\n",
       "2021-09-28 -1.173122  0.223985  0.407908  0.813180\n",
       "2021-09-29  0.612146 -0.288333 -0.497924  0.583481\n",
       "2021-09-30 -0.719154  1.042569  0.519099 -1.132639\n",
       "2021-10-01  0.135311  0.956756  0.341884  1.076625\n",
       "2021-10-02 -0.409616  1.265521  0.335959  0.888961"
      ]
     },
     "execution_count": 12,
     "metadata": {},
     "output_type": "execute_result"
    }
   ],
   "source": [
    "#view the data\n",
    "#it will give the first 5 values\n",
    "df.head()"
   ]
  },
  {
   "cell_type": "code",
   "execution_count": 17,
   "id": "57183230",
   "metadata": {},
   "outputs": [
    {
     "data": {
      "text/html": [
       "<div>\n",
       "<style scoped>\n",
       "    .dataframe tbody tr th:only-of-type {\n",
       "        vertical-align: middle;\n",
       "    }\n",
       "\n",
       "    .dataframe tbody tr th {\n",
       "        vertical-align: top;\n",
       "    }\n",
       "\n",
       "    .dataframe thead th {\n",
       "        text-align: right;\n",
       "    }\n",
       "</style>\n",
       "<table border=\"1\" class=\"dataframe\">\n",
       "  <thead>\n",
       "    <tr style=\"text-align: right;\">\n",
       "      <th></th>\n",
       "      <th>A</th>\n",
       "      <th>B</th>\n",
       "      <th>C</th>\n",
       "      <th>D</th>\n",
       "    </tr>\n",
       "  </thead>\n",
       "  <tbody>\n",
       "    <tr>\n",
       "      <th>2021-10-03</th>\n",
       "      <td>0.366293</td>\n",
       "      <td>-1.086029</td>\n",
       "      <td>0.242123</td>\n",
       "      <td>-0.656250</td>\n",
       "    </tr>\n",
       "    <tr>\n",
       "      <th>2021-10-04</th>\n",
       "      <td>-1.128700</td>\n",
       "      <td>0.306722</td>\n",
       "      <td>0.690071</td>\n",
       "      <td>1.523767</td>\n",
       "    </tr>\n",
       "    <tr>\n",
       "      <th>2021-10-05</th>\n",
       "      <td>1.927074</td>\n",
       "      <td>1.079511</td>\n",
       "      <td>-1.860684</td>\n",
       "      <td>-0.051516</td>\n",
       "    </tr>\n",
       "    <tr>\n",
       "      <th>2021-10-06</th>\n",
       "      <td>-0.351911</td>\n",
       "      <td>-0.674709</td>\n",
       "      <td>1.172327</td>\n",
       "      <td>0.844566</td>\n",
       "    </tr>\n",
       "    <tr>\n",
       "      <th>2021-10-07</th>\n",
       "      <td>0.869806</td>\n",
       "      <td>-0.719200</td>\n",
       "      <td>0.885415</td>\n",
       "      <td>-1.711556</td>\n",
       "    </tr>\n",
       "  </tbody>\n",
       "</table>\n",
       "</div>"
      ],
      "text/plain": [
       "                   A         B         C         D\n",
       "2021-10-03  0.366293 -1.086029  0.242123 -0.656250\n",
       "2021-10-04 -1.128700  0.306722  0.690071  1.523767\n",
       "2021-10-05  1.927074  1.079511 -1.860684 -0.051516\n",
       "2021-10-06 -0.351911 -0.674709  1.172327  0.844566\n",
       "2021-10-07  0.869806 -0.719200  0.885415 -1.711556"
      ]
     },
     "execution_count": 17,
     "metadata": {},
     "output_type": "execute_result"
    }
   ],
   "source": [
    "# to get the last 5 values\n",
    "\n",
    "df.tail()"
   ]
  },
  {
   "cell_type": "code",
   "execution_count": 18,
   "id": "7867236a",
   "metadata": {},
   "outputs": [
    {
     "data": {
      "text/plain": [
       "DatetimeIndex(['2021-09-28', '2021-09-29', '2021-09-30', '2021-10-01',\n",
       "               '2021-10-02', '2021-10-03', '2021-10-04', '2021-10-05',\n",
       "               '2021-10-06', '2021-10-07'],\n",
       "              dtype='datetime64[ns]', freq='D')"
      ]
     },
     "execution_count": 18,
     "metadata": {},
     "output_type": "execute_result"
    }
   ],
   "source": [
    "#to get the index of dataframe\n",
    "\n",
    "df.index"
   ]
  },
  {
   "cell_type": "code",
   "execution_count": 19,
   "id": "f2e3d028",
   "metadata": {},
   "outputs": [
    {
     "data": {
      "text/plain": [
       "Index(['A', 'B', 'C', 'D'], dtype='object')"
      ]
     },
     "execution_count": 19,
     "metadata": {},
     "output_type": "execute_result"
    }
   ],
   "source": [
    "#to get the column of the dataframe\n",
    "\n",
    "df.columns\n",
    "     "
   ]
  },
  {
   "cell_type": "code",
   "execution_count": 20,
   "id": "2d15a1af",
   "metadata": {},
   "outputs": [
    {
     "data": {
      "text/plain": [
       "array([[-1.1731224 ,  0.22398464,  0.40790803,  0.81318049],\n",
       "       [ 0.61214574, -0.28833288, -0.49792363,  0.58348114],\n",
       "       [-0.71915403,  1.04256862,  0.51909883, -1.13263924],\n",
       "       [ 0.13531058,  0.95675612,  0.34188366,  1.07662547],\n",
       "       [-0.40961621,  1.26552073,  0.33595903,  0.88896078],\n",
       "       [ 0.36629308, -1.08602947,  0.24212274, -0.65624993],\n",
       "       [-1.12869955,  0.30672241,  0.69007102,  1.52376719],\n",
       "       [ 1.92707446,  1.07951137, -1.86068407, -0.05151598],\n",
       "       [-0.35191052, -0.67470898,  1.17232693,  0.84456616],\n",
       "       [ 0.86980619, -0.71919955,  0.88541515, -1.71155625]])"
      ]
     },
     "execution_count": 20,
     "metadata": {},
     "output_type": "execute_result"
    }
   ],
   "source": [
    "# to get the numpy representation of the data \n",
    "\n",
    "df.to_numpy()"
   ]
  },
  {
   "cell_type": "code",
   "execution_count": 9,
   "id": "0ecc4431",
   "metadata": {},
   "outputs": [
    {
     "data": {
      "text/html": [
       "<div>\n",
       "<style scoped>\n",
       "    .dataframe tbody tr th:only-of-type {\n",
       "        vertical-align: middle;\n",
       "    }\n",
       "\n",
       "    .dataframe tbody tr th {\n",
       "        vertical-align: top;\n",
       "    }\n",
       "\n",
       "    .dataframe thead th {\n",
       "        text-align: right;\n",
       "    }\n",
       "</style>\n",
       "<table border=\"1\" class=\"dataframe\">\n",
       "  <thead>\n",
       "    <tr style=\"text-align: right;\">\n",
       "      <th></th>\n",
       "      <th>A</th>\n",
       "      <th>B</th>\n",
       "      <th>C</th>\n",
       "      <th>D</th>\n",
       "      <th>C</th>\n",
       "    </tr>\n",
       "  </thead>\n",
       "  <tbody>\n",
       "    <tr>\n",
       "      <th>count</th>\n",
       "      <td>10.000000</td>\n",
       "      <td>10.000000</td>\n",
       "      <td>10.000000</td>\n",
       "      <td>10.000000</td>\n",
       "      <td>10.000000</td>\n",
       "    </tr>\n",
       "    <tr>\n",
       "      <th>mean</th>\n",
       "      <td>-0.134580</td>\n",
       "      <td>0.704746</td>\n",
       "      <td>0.163029</td>\n",
       "      <td>0.197723</td>\n",
       "      <td>-0.494275</td>\n",
       "    </tr>\n",
       "    <tr>\n",
       "      <th>std</th>\n",
       "      <td>1.043248</td>\n",
       "      <td>0.667258</td>\n",
       "      <td>1.133424</td>\n",
       "      <td>1.076229</td>\n",
       "      <td>1.324276</td>\n",
       "    </tr>\n",
       "    <tr>\n",
       "      <th>min</th>\n",
       "      <td>-1.711688</td>\n",
       "      <td>-0.415006</td>\n",
       "      <td>-1.845796</td>\n",
       "      <td>-1.402882</td>\n",
       "      <td>-2.041842</td>\n",
       "    </tr>\n",
       "    <tr>\n",
       "      <th>25%</th>\n",
       "      <td>-0.553396</td>\n",
       "      <td>0.293998</td>\n",
       "      <td>-0.171269</td>\n",
       "      <td>-0.392362</td>\n",
       "      <td>-1.563669</td>\n",
       "    </tr>\n",
       "    <tr>\n",
       "      <th>50%</th>\n",
       "      <td>-0.223825</td>\n",
       "      <td>0.751413</td>\n",
       "      <td>0.497907</td>\n",
       "      <td>0.109203</td>\n",
       "      <td>-0.730530</td>\n",
       "    </tr>\n",
       "    <tr>\n",
       "      <th>75%</th>\n",
       "      <td>-0.058021</td>\n",
       "      <td>1.230013</td>\n",
       "      <td>0.922415</td>\n",
       "      <td>1.017861</td>\n",
       "      <td>0.511272</td>\n",
       "    </tr>\n",
       "    <tr>\n",
       "      <th>max</th>\n",
       "      <td>1.887523</td>\n",
       "      <td>1.608162</td>\n",
       "      <td>1.294101</td>\n",
       "      <td>1.829052</td>\n",
       "      <td>1.831220</td>\n",
       "    </tr>\n",
       "  </tbody>\n",
       "</table>\n",
       "</div>"
      ],
      "text/plain": [
       "               A          B          C          D          C\n",
       "count  10.000000  10.000000  10.000000  10.000000  10.000000\n",
       "mean   -0.134580   0.704746   0.163029   0.197723  -0.494275\n",
       "std     1.043248   0.667258   1.133424   1.076229   1.324276\n",
       "min    -1.711688  -0.415006  -1.845796  -1.402882  -2.041842\n",
       "25%    -0.553396   0.293998  -0.171269  -0.392362  -1.563669\n",
       "50%    -0.223825   0.751413   0.497907   0.109203  -0.730530\n",
       "75%    -0.058021   1.230013   0.922415   1.017861   0.511272\n",
       "max     1.887523   1.608162   1.294101   1.829052   1.831220"
      ]
     },
     "execution_count": 9,
     "metadata": {},
     "output_type": "execute_result"
    }
   ],
   "source": [
    "# to describe the data\n",
    "\n",
    "df.describe()"
   ]
  },
  {
   "cell_type": "code",
   "execution_count": 22,
   "id": "7a59795d",
   "metadata": {},
   "outputs": [
    {
     "data": {
      "text/html": [
       "<div>\n",
       "<style scoped>\n",
       "    .dataframe tbody tr th:only-of-type {\n",
       "        vertical-align: middle;\n",
       "    }\n",
       "\n",
       "    .dataframe tbody tr th {\n",
       "        vertical-align: top;\n",
       "    }\n",
       "\n",
       "    .dataframe thead th {\n",
       "        text-align: right;\n",
       "    }\n",
       "</style>\n",
       "<table border=\"1\" class=\"dataframe\">\n",
       "  <thead>\n",
       "    <tr style=\"text-align: right;\">\n",
       "      <th></th>\n",
       "      <th>D</th>\n",
       "      <th>C</th>\n",
       "      <th>B</th>\n",
       "      <th>A</th>\n",
       "    </tr>\n",
       "  </thead>\n",
       "  <tbody>\n",
       "    <tr>\n",
       "      <th>2021-09-28</th>\n",
       "      <td>0.813180</td>\n",
       "      <td>0.407908</td>\n",
       "      <td>0.223985</td>\n",
       "      <td>-1.173122</td>\n",
       "    </tr>\n",
       "    <tr>\n",
       "      <th>2021-09-29</th>\n",
       "      <td>0.583481</td>\n",
       "      <td>-0.497924</td>\n",
       "      <td>-0.288333</td>\n",
       "      <td>0.612146</td>\n",
       "    </tr>\n",
       "    <tr>\n",
       "      <th>2021-09-30</th>\n",
       "      <td>-1.132639</td>\n",
       "      <td>0.519099</td>\n",
       "      <td>1.042569</td>\n",
       "      <td>-0.719154</td>\n",
       "    </tr>\n",
       "    <tr>\n",
       "      <th>2021-10-01</th>\n",
       "      <td>1.076625</td>\n",
       "      <td>0.341884</td>\n",
       "      <td>0.956756</td>\n",
       "      <td>0.135311</td>\n",
       "    </tr>\n",
       "    <tr>\n",
       "      <th>2021-10-02</th>\n",
       "      <td>0.888961</td>\n",
       "      <td>0.335959</td>\n",
       "      <td>1.265521</td>\n",
       "      <td>-0.409616</td>\n",
       "    </tr>\n",
       "    <tr>\n",
       "      <th>2021-10-03</th>\n",
       "      <td>-0.656250</td>\n",
       "      <td>0.242123</td>\n",
       "      <td>-1.086029</td>\n",
       "      <td>0.366293</td>\n",
       "    </tr>\n",
       "    <tr>\n",
       "      <th>2021-10-04</th>\n",
       "      <td>1.523767</td>\n",
       "      <td>0.690071</td>\n",
       "      <td>0.306722</td>\n",
       "      <td>-1.128700</td>\n",
       "    </tr>\n",
       "    <tr>\n",
       "      <th>2021-10-05</th>\n",
       "      <td>-0.051516</td>\n",
       "      <td>-1.860684</td>\n",
       "      <td>1.079511</td>\n",
       "      <td>1.927074</td>\n",
       "    </tr>\n",
       "    <tr>\n",
       "      <th>2021-10-06</th>\n",
       "      <td>0.844566</td>\n",
       "      <td>1.172327</td>\n",
       "      <td>-0.674709</td>\n",
       "      <td>-0.351911</td>\n",
       "    </tr>\n",
       "    <tr>\n",
       "      <th>2021-10-07</th>\n",
       "      <td>-1.711556</td>\n",
       "      <td>0.885415</td>\n",
       "      <td>-0.719200</td>\n",
       "      <td>0.869806</td>\n",
       "    </tr>\n",
       "  </tbody>\n",
       "</table>\n",
       "</div>"
      ],
      "text/plain": [
       "                   D         C         B         A\n",
       "2021-09-28  0.813180  0.407908  0.223985 -1.173122\n",
       "2021-09-29  0.583481 -0.497924 -0.288333  0.612146\n",
       "2021-09-30 -1.132639  0.519099  1.042569 -0.719154\n",
       "2021-10-01  1.076625  0.341884  0.956756  0.135311\n",
       "2021-10-02  0.888961  0.335959  1.265521 -0.409616\n",
       "2021-10-03 -0.656250  0.242123 -1.086029  0.366293\n",
       "2021-10-04  1.523767  0.690071  0.306722 -1.128700\n",
       "2021-10-05 -0.051516 -1.860684  1.079511  1.927074\n",
       "2021-10-06  0.844566  1.172327 -0.674709 -0.351911\n",
       "2021-10-07 -1.711556  0.885415 -0.719200  0.869806"
      ]
     },
     "execution_count": 22,
     "metadata": {},
     "output_type": "execute_result"
    }
   ],
   "source": [
    "#datframe sorted by index \n",
    "\n",
    "df.sort_index(axis=1,ascending=False)\n",
    "\n"
   ]
  },
  {
   "cell_type": "code",
   "execution_count": 23,
   "id": "6100d1ab",
   "metadata": {},
   "outputs": [
    {
     "data": {
      "text/html": [
       "<div>\n",
       "<style scoped>\n",
       "    .dataframe tbody tr th:only-of-type {\n",
       "        vertical-align: middle;\n",
       "    }\n",
       "\n",
       "    .dataframe tbody tr th {\n",
       "        vertical-align: top;\n",
       "    }\n",
       "\n",
       "    .dataframe thead th {\n",
       "        text-align: right;\n",
       "    }\n",
       "</style>\n",
       "<table border=\"1\" class=\"dataframe\">\n",
       "  <thead>\n",
       "    <tr style=\"text-align: right;\">\n",
       "      <th></th>\n",
       "      <th>A</th>\n",
       "      <th>B</th>\n",
       "      <th>C</th>\n",
       "      <th>D</th>\n",
       "    </tr>\n",
       "  </thead>\n",
       "  <tbody>\n",
       "    <tr>\n",
       "      <th>2021-10-05</th>\n",
       "      <td>1.927074</td>\n",
       "      <td>1.079511</td>\n",
       "      <td>-1.860684</td>\n",
       "      <td>-0.051516</td>\n",
       "    </tr>\n",
       "    <tr>\n",
       "      <th>2021-09-29</th>\n",
       "      <td>0.612146</td>\n",
       "      <td>-0.288333</td>\n",
       "      <td>-0.497924</td>\n",
       "      <td>0.583481</td>\n",
       "    </tr>\n",
       "    <tr>\n",
       "      <th>2021-10-03</th>\n",
       "      <td>0.366293</td>\n",
       "      <td>-1.086029</td>\n",
       "      <td>0.242123</td>\n",
       "      <td>-0.656250</td>\n",
       "    </tr>\n",
       "    <tr>\n",
       "      <th>2021-10-02</th>\n",
       "      <td>-0.409616</td>\n",
       "      <td>1.265521</td>\n",
       "      <td>0.335959</td>\n",
       "      <td>0.888961</td>\n",
       "    </tr>\n",
       "    <tr>\n",
       "      <th>2021-10-01</th>\n",
       "      <td>0.135311</td>\n",
       "      <td>0.956756</td>\n",
       "      <td>0.341884</td>\n",
       "      <td>1.076625</td>\n",
       "    </tr>\n",
       "    <tr>\n",
       "      <th>2021-09-28</th>\n",
       "      <td>-1.173122</td>\n",
       "      <td>0.223985</td>\n",
       "      <td>0.407908</td>\n",
       "      <td>0.813180</td>\n",
       "    </tr>\n",
       "    <tr>\n",
       "      <th>2021-09-30</th>\n",
       "      <td>-0.719154</td>\n",
       "      <td>1.042569</td>\n",
       "      <td>0.519099</td>\n",
       "      <td>-1.132639</td>\n",
       "    </tr>\n",
       "    <tr>\n",
       "      <th>2021-10-04</th>\n",
       "      <td>-1.128700</td>\n",
       "      <td>0.306722</td>\n",
       "      <td>0.690071</td>\n",
       "      <td>1.523767</td>\n",
       "    </tr>\n",
       "    <tr>\n",
       "      <th>2021-10-07</th>\n",
       "      <td>0.869806</td>\n",
       "      <td>-0.719200</td>\n",
       "      <td>0.885415</td>\n",
       "      <td>-1.711556</td>\n",
       "    </tr>\n",
       "    <tr>\n",
       "      <th>2021-10-06</th>\n",
       "      <td>-0.351911</td>\n",
       "      <td>-0.674709</td>\n",
       "      <td>1.172327</td>\n",
       "      <td>0.844566</td>\n",
       "    </tr>\n",
       "  </tbody>\n",
       "</table>\n",
       "</div>"
      ],
      "text/plain": [
       "                   A         B         C         D\n",
       "2021-10-05  1.927074  1.079511 -1.860684 -0.051516\n",
       "2021-09-29  0.612146 -0.288333 -0.497924  0.583481\n",
       "2021-10-03  0.366293 -1.086029  0.242123 -0.656250\n",
       "2021-10-02 -0.409616  1.265521  0.335959  0.888961\n",
       "2021-10-01  0.135311  0.956756  0.341884  1.076625\n",
       "2021-09-28 -1.173122  0.223985  0.407908  0.813180\n",
       "2021-09-30 -0.719154  1.042569  0.519099 -1.132639\n",
       "2021-10-04 -1.128700  0.306722  0.690071  1.523767\n",
       "2021-10-07  0.869806 -0.719200  0.885415 -1.711556\n",
       "2021-10-06 -0.351911 -0.674709  1.172327  0.844566"
      ]
     },
     "execution_count": 23,
     "metadata": {},
     "output_type": "execute_result"
    }
   ],
   "source": [
    "#sorting the dataframe by values\n",
    "#it sort the dataframe depending on 'C'\n",
    "df.sort_values(by='C')"
   ]
  },
  {
   "cell_type": "code",
   "execution_count": 24,
   "id": "9f1950b4",
   "metadata": {},
   "outputs": [
    {
     "data": {
      "text/plain": [
       "2021-09-28    0.407908\n",
       "2021-09-29   -0.497924\n",
       "2021-09-30    0.519099\n",
       "2021-10-01    0.341884\n",
       "2021-10-02    0.335959\n",
       "2021-10-03    0.242123\n",
       "2021-10-04    0.690071\n",
       "2021-10-05   -1.860684\n",
       "2021-10-06    1.172327\n",
       "2021-10-07    0.885415\n",
       "Freq: D, Name: C, dtype: float64"
      ]
     },
     "execution_count": 24,
     "metadata": {},
     "output_type": "execute_result"
    }
   ],
   "source": [
    "# to access only the single column \n",
    "\n",
    "\n",
    "df['C']"
   ]
  },
  {
   "cell_type": "code",
   "execution_count": 25,
   "id": "a3210d29",
   "metadata": {},
   "outputs": [
    {
     "data": {
      "text/html": [
       "<div>\n",
       "<style scoped>\n",
       "    .dataframe tbody tr th:only-of-type {\n",
       "        vertical-align: middle;\n",
       "    }\n",
       "\n",
       "    .dataframe tbody tr th {\n",
       "        vertical-align: top;\n",
       "    }\n",
       "\n",
       "    .dataframe thead th {\n",
       "        text-align: right;\n",
       "    }\n",
       "</style>\n",
       "<table border=\"1\" class=\"dataframe\">\n",
       "  <thead>\n",
       "    <tr style=\"text-align: right;\">\n",
       "      <th></th>\n",
       "      <th>A</th>\n",
       "      <th>B</th>\n",
       "      <th>C</th>\n",
       "      <th>D</th>\n",
       "    </tr>\n",
       "  </thead>\n",
       "  <tbody>\n",
       "    <tr>\n",
       "      <th>2021-09-28</th>\n",
       "      <td>-1.173122</td>\n",
       "      <td>0.223985</td>\n",
       "      <td>0.407908</td>\n",
       "      <td>0.813180</td>\n",
       "    </tr>\n",
       "    <tr>\n",
       "      <th>2021-09-29</th>\n",
       "      <td>0.612146</td>\n",
       "      <td>-0.288333</td>\n",
       "      <td>-0.497924</td>\n",
       "      <td>0.583481</td>\n",
       "    </tr>\n",
       "    <tr>\n",
       "      <th>2021-09-30</th>\n",
       "      <td>-0.719154</td>\n",
       "      <td>1.042569</td>\n",
       "      <td>0.519099</td>\n",
       "      <td>-1.132639</td>\n",
       "    </tr>\n",
       "  </tbody>\n",
       "</table>\n",
       "</div>"
      ],
      "text/plain": [
       "                   A         B         C         D\n",
       "2021-09-28 -1.173122  0.223985  0.407908  0.813180\n",
       "2021-09-29  0.612146 -0.288333 -0.497924  0.583481\n",
       "2021-09-30 -0.719154  1.042569  0.519099 -1.132639"
      ]
     },
     "execution_count": 25,
     "metadata": {},
     "output_type": "execute_result"
    }
   ],
   "source": [
    "# to slice the rows\n",
    "# it will give the result from 0th row to 3rd row\n",
    "\n",
    "df[0:3]"
   ]
  },
  {
   "cell_type": "code",
   "execution_count": 26,
   "id": "b0d8bde0",
   "metadata": {},
   "outputs": [
    {
     "data": {
      "text/plain": [
       "A   -1.173122\n",
       "B    0.223985\n",
       "C    0.407908\n",
       "D    0.813180\n",
       "Name: 2021-09-28 00:00:00, dtype: float64"
      ]
     },
     "execution_count": 26,
     "metadata": {},
     "output_type": "execute_result"
    }
   ],
   "source": [
    "# to select the data by using the labels\n",
    "# inside the loc methods, we can pass the values by labels\n",
    "\n",
    "df.loc[d[0]]"
   ]
  },
  {
   "cell_type": "code",
   "execution_count": 27,
   "id": "6801a6bd",
   "metadata": {},
   "outputs": [
    {
     "data": {
      "text/html": [
       "<div>\n",
       "<style scoped>\n",
       "    .dataframe tbody tr th:only-of-type {\n",
       "        vertical-align: middle;\n",
       "    }\n",
       "\n",
       "    .dataframe tbody tr th {\n",
       "        vertical-align: top;\n",
       "    }\n",
       "\n",
       "    .dataframe thead th {\n",
       "        text-align: right;\n",
       "    }\n",
       "</style>\n",
       "<table border=\"1\" class=\"dataframe\">\n",
       "  <thead>\n",
       "    <tr style=\"text-align: right;\">\n",
       "      <th></th>\n",
       "      <th>A</th>\n",
       "      <th>C</th>\n",
       "    </tr>\n",
       "  </thead>\n",
       "  <tbody>\n",
       "    <tr>\n",
       "      <th>2021-09-28</th>\n",
       "      <td>-1.173122</td>\n",
       "      <td>0.407908</td>\n",
       "    </tr>\n",
       "    <tr>\n",
       "      <th>2021-09-29</th>\n",
       "      <td>0.612146</td>\n",
       "      <td>-0.497924</td>\n",
       "    </tr>\n",
       "    <tr>\n",
       "      <th>2021-09-30</th>\n",
       "      <td>-0.719154</td>\n",
       "      <td>0.519099</td>\n",
       "    </tr>\n",
       "    <tr>\n",
       "      <th>2021-10-01</th>\n",
       "      <td>0.135311</td>\n",
       "      <td>0.341884</td>\n",
       "    </tr>\n",
       "    <tr>\n",
       "      <th>2021-10-02</th>\n",
       "      <td>-0.409616</td>\n",
       "      <td>0.335959</td>\n",
       "    </tr>\n",
       "    <tr>\n",
       "      <th>2021-10-03</th>\n",
       "      <td>0.366293</td>\n",
       "      <td>0.242123</td>\n",
       "    </tr>\n",
       "    <tr>\n",
       "      <th>2021-10-04</th>\n",
       "      <td>-1.128700</td>\n",
       "      <td>0.690071</td>\n",
       "    </tr>\n",
       "    <tr>\n",
       "      <th>2021-10-05</th>\n",
       "      <td>1.927074</td>\n",
       "      <td>-1.860684</td>\n",
       "    </tr>\n",
       "    <tr>\n",
       "      <th>2021-10-06</th>\n",
       "      <td>-0.351911</td>\n",
       "      <td>1.172327</td>\n",
       "    </tr>\n",
       "    <tr>\n",
       "      <th>2021-10-07</th>\n",
       "      <td>0.869806</td>\n",
       "      <td>0.885415</td>\n",
       "    </tr>\n",
       "  </tbody>\n",
       "</table>\n",
       "</div>"
      ],
      "text/plain": [
       "                   A         C\n",
       "2021-09-28 -1.173122  0.407908\n",
       "2021-09-29  0.612146 -0.497924\n",
       "2021-09-30 -0.719154  0.519099\n",
       "2021-10-01  0.135311  0.341884\n",
       "2021-10-02 -0.409616  0.335959\n",
       "2021-10-03  0.366293  0.242123\n",
       "2021-10-04 -1.128700  0.690071\n",
       "2021-10-05  1.927074 -1.860684\n",
       "2021-10-06 -0.351911  1.172327\n",
       "2021-10-07  0.869806  0.885415"
      ]
     },
     "execution_count": 27,
     "metadata": {},
     "output_type": "execute_result"
    }
   ],
   "source": [
    "# to selecting data on a multi axis by label\n",
    "\n",
    "df.loc[:,['A','C']]"
   ]
  },
  {
   "cell_type": "code",
   "execution_count": 28,
   "id": "745ad983",
   "metadata": {},
   "outputs": [
    {
     "data": {
      "text/html": [
       "<div>\n",
       "<style scoped>\n",
       "    .dataframe tbody tr th:only-of-type {\n",
       "        vertical-align: middle;\n",
       "    }\n",
       "\n",
       "    .dataframe tbody tr th {\n",
       "        vertical-align: top;\n",
       "    }\n",
       "\n",
       "    .dataframe thead th {\n",
       "        text-align: right;\n",
       "    }\n",
       "</style>\n",
       "<table border=\"1\" class=\"dataframe\">\n",
       "  <thead>\n",
       "    <tr style=\"text-align: right;\">\n",
       "      <th></th>\n",
       "      <th>D</th>\n",
       "      <th>C</th>\n",
       "    </tr>\n",
       "  </thead>\n",
       "  <tbody>\n",
       "    <tr>\n",
       "      <th>2021-09-28</th>\n",
       "      <td>0.813180</td>\n",
       "      <td>0.407908</td>\n",
       "    </tr>\n",
       "    <tr>\n",
       "      <th>2021-09-29</th>\n",
       "      <td>0.583481</td>\n",
       "      <td>-0.497924</td>\n",
       "    </tr>\n",
       "    <tr>\n",
       "      <th>2021-09-30</th>\n",
       "      <td>-1.132639</td>\n",
       "      <td>0.519099</td>\n",
       "    </tr>\n",
       "    <tr>\n",
       "      <th>2021-10-01</th>\n",
       "      <td>1.076625</td>\n",
       "      <td>0.341884</td>\n",
       "    </tr>\n",
       "    <tr>\n",
       "      <th>2021-10-02</th>\n",
       "      <td>0.888961</td>\n",
       "      <td>0.335959</td>\n",
       "    </tr>\n",
       "    <tr>\n",
       "      <th>2021-10-03</th>\n",
       "      <td>-0.656250</td>\n",
       "      <td>0.242123</td>\n",
       "    </tr>\n",
       "  </tbody>\n",
       "</table>\n",
       "</div>"
      ],
      "text/plain": [
       "                   D         C\n",
       "2021-09-28  0.813180  0.407908\n",
       "2021-09-29  0.583481 -0.497924\n",
       "2021-09-30 -1.132639  0.519099\n",
       "2021-10-01  1.076625  0.341884\n",
       "2021-10-02  0.888961  0.335959\n",
       "2021-10-03 -0.656250  0.242123"
      ]
     },
     "execution_count": 28,
     "metadata": {},
     "output_type": "execute_result"
    }
   ],
   "source": [
    "#  to get the data with in soma range\n",
    "df.loc['20210928':'20211003',['D','C']]"
   ]
  },
  {
   "cell_type": "code",
   "execution_count": 29,
   "id": "85385fdf",
   "metadata": {},
   "outputs": [
    {
     "data": {
      "text/plain": [
       "D    0.813180\n",
       "C    0.407908\n",
       "Name: 2021-09-28 00:00:00, dtype: float64"
      ]
     },
     "execution_count": 29,
     "metadata": {},
     "output_type": "execute_result"
    }
   ],
   "source": [
    "# to get the data with in same range\n",
    "\n",
    "df.loc['20210928',['D','C']]"
   ]
  },
  {
   "cell_type": "code",
   "execution_count": 30,
   "id": "b9e0f15c",
   "metadata": {},
   "outputs": [
    {
     "data": {
      "text/plain": [
       "D    0.813180\n",
       "C    0.407908\n",
       "Name: 2021-09-28 00:00:00, dtype: float64"
      ]
     },
     "execution_count": 30,
     "metadata": {},
     "output_type": "execute_result"
    }
   ],
   "source": [
    "# to get a single elament from the dataframe\n",
    "\n",
    "df.loc[d[0],['D','C']]"
   ]
  },
  {
   "cell_type": "code",
   "execution_count": 31,
   "id": "02ee4023",
   "metadata": {},
   "outputs": [
    {
     "data": {
      "text/plain": [
       "0.40790802801968734"
      ]
     },
     "execution_count": 31,
     "metadata": {},
     "output_type": "execute_result"
    }
   ],
   "source": [
    "# to get the exact value in 0th index at column 'c'##############\n",
    "\n",
    "df.at[d[0],'C']"
   ]
  },
  {
   "cell_type": "code",
   "execution_count": 32,
   "id": "22d23137",
   "metadata": {},
   "outputs": [
    {
     "data": {
      "text/plain": [
       "A    0.135311\n",
       "B    0.956756\n",
       "C    0.341884\n",
       "D    1.076625\n",
       "Name: 2021-10-01 00:00:00, dtype: float64"
      ]
     },
     "execution_count": 32,
     "metadata": {},
     "output_type": "execute_result"
    }
   ],
   "source": [
    "#selecting a value from using the position inside the dataframe\n",
    "#it will select all the value from the third position\n",
    "\n",
    "df.iloc[3]"
   ]
  },
  {
   "cell_type": "code",
   "execution_count": 33,
   "id": "75cf67aa",
   "metadata": {},
   "outputs": [
    {
     "data": {
      "text/html": [
       "<div>\n",
       "<style scoped>\n",
       "    .dataframe tbody tr th:only-of-type {\n",
       "        vertical-align: middle;\n",
       "    }\n",
       "\n",
       "    .dataframe tbody tr th {\n",
       "        vertical-align: top;\n",
       "    }\n",
       "\n",
       "    .dataframe thead th {\n",
       "        text-align: right;\n",
       "    }\n",
       "</style>\n",
       "<table border=\"1\" class=\"dataframe\">\n",
       "  <thead>\n",
       "    <tr style=\"text-align: right;\">\n",
       "      <th></th>\n",
       "      <th>A</th>\n",
       "      <th>B</th>\n",
       "      <th>C</th>\n",
       "      <th>D</th>\n",
       "    </tr>\n",
       "  </thead>\n",
       "  <tbody>\n",
       "    <tr>\n",
       "      <th>2021-10-01</th>\n",
       "      <td>0.135311</td>\n",
       "      <td>0.956756</td>\n",
       "      <td>0.341884</td>\n",
       "      <td>1.076625</td>\n",
       "    </tr>\n",
       "    <tr>\n",
       "      <th>2021-10-02</th>\n",
       "      <td>-0.409616</td>\n",
       "      <td>1.265521</td>\n",
       "      <td>0.335959</td>\n",
       "      <td>0.888961</td>\n",
       "    </tr>\n",
       "  </tbody>\n",
       "</table>\n",
       "</div>"
      ],
      "text/plain": [
       "                   A         B         C         D\n",
       "2021-10-01  0.135311  0.956756  0.341884  1.076625\n",
       "2021-10-02 -0.409616  1.265521  0.335959  0.888961"
      ]
     },
     "execution_count": 33,
     "metadata": {},
     "output_type": "execute_result"
    }
   ],
   "source": [
    "# to select the values in 3rd and 4th position\n",
    "\n",
    "df.iloc[3:5]"
   ]
  },
  {
   "cell_type": "code",
   "execution_count": 34,
   "id": "90684cce",
   "metadata": {},
   "outputs": [
    {
     "data": {
      "text/html": [
       "<div>\n",
       "<style scoped>\n",
       "    .dataframe tbody tr th:only-of-type {\n",
       "        vertical-align: middle;\n",
       "    }\n",
       "\n",
       "    .dataframe tbody tr th {\n",
       "        vertical-align: top;\n",
       "    }\n",
       "\n",
       "    .dataframe thead th {\n",
       "        text-align: right;\n",
       "    }\n",
       "</style>\n",
       "<table border=\"1\" class=\"dataframe\">\n",
       "  <thead>\n",
       "    <tr style=\"text-align: right;\">\n",
       "      <th></th>\n",
       "      <th>A</th>\n",
       "      <th>B</th>\n",
       "    </tr>\n",
       "  </thead>\n",
       "  <tbody>\n",
       "    <tr>\n",
       "      <th>2021-10-01</th>\n",
       "      <td>0.135311</td>\n",
       "      <td>0.956756</td>\n",
       "    </tr>\n",
       "    <tr>\n",
       "      <th>2021-10-02</th>\n",
       "      <td>-0.409616</td>\n",
       "      <td>1.265521</td>\n",
       "    </tr>\n",
       "  </tbody>\n",
       "</table>\n",
       "</div>"
      ],
      "text/plain": [
       "                   A         B\n",
       "2021-10-01  0.135311  0.956756\n",
       "2021-10-02 -0.409616  1.265521"
      ]
     },
     "execution_count": 34,
     "metadata": {},
     "output_type": "execute_result"
    }
   ],
   "source": [
    "# to select the value which is in 3rd to 4th row,and it only include the column start with 0 and end with 2\n",
    "\n",
    "df.iloc[3:5,0:2]"
   ]
  },
  {
   "cell_type": "code",
   "execution_count": 35,
   "id": "8bde5940",
   "metadata": {},
   "outputs": [
    {
     "data": {
      "text/html": [
       "<div>\n",
       "<style scoped>\n",
       "    .dataframe tbody tr th:only-of-type {\n",
       "        vertical-align: middle;\n",
       "    }\n",
       "\n",
       "    .dataframe tbody tr th {\n",
       "        vertical-align: top;\n",
       "    }\n",
       "\n",
       "    .dataframe thead th {\n",
       "        text-align: right;\n",
       "    }\n",
       "</style>\n",
       "<table border=\"1\" class=\"dataframe\">\n",
       "  <thead>\n",
       "    <tr style=\"text-align: right;\">\n",
       "      <th></th>\n",
       "      <th>A</th>\n",
       "      <th>B</th>\n",
       "      <th>C</th>\n",
       "      <th>D</th>\n",
       "    </tr>\n",
       "  </thead>\n",
       "  <tbody>\n",
       "    <tr>\n",
       "      <th>2021-09-29</th>\n",
       "      <td>0.612146</td>\n",
       "      <td>-0.288333</td>\n",
       "      <td>-0.497924</td>\n",
       "      <td>0.583481</td>\n",
       "    </tr>\n",
       "    <tr>\n",
       "      <th>2021-10-01</th>\n",
       "      <td>0.135311</td>\n",
       "      <td>0.956756</td>\n",
       "      <td>0.341884</td>\n",
       "      <td>1.076625</td>\n",
       "    </tr>\n",
       "    <tr>\n",
       "      <th>2021-10-03</th>\n",
       "      <td>0.366293</td>\n",
       "      <td>-1.086029</td>\n",
       "      <td>0.242123</td>\n",
       "      <td>-0.656250</td>\n",
       "    </tr>\n",
       "    <tr>\n",
       "      <th>2021-10-05</th>\n",
       "      <td>1.927074</td>\n",
       "      <td>1.079511</td>\n",
       "      <td>-1.860684</td>\n",
       "      <td>-0.051516</td>\n",
       "    </tr>\n",
       "    <tr>\n",
       "      <th>2021-10-07</th>\n",
       "      <td>0.869806</td>\n",
       "      <td>-0.719200</td>\n",
       "      <td>0.885415</td>\n",
       "      <td>-1.711556</td>\n",
       "    </tr>\n",
       "  </tbody>\n",
       "</table>\n",
       "</div>"
      ],
      "text/plain": [
       "                   A         B         C         D\n",
       "2021-09-29  0.612146 -0.288333 -0.497924  0.583481\n",
       "2021-10-01  0.135311  0.956756  0.341884  1.076625\n",
       "2021-10-03  0.366293 -1.086029  0.242123 -0.656250\n",
       "2021-10-05  1.927074  1.079511 -1.860684 -0.051516\n",
       "2021-10-07  0.869806 -0.719200  0.885415 -1.711556"
      ]
     },
     "execution_count": 35,
     "metadata": {},
     "output_type": "execute_result"
    }
   ],
   "source": [
    "# boolean indexing\n",
    "# it will show the values in'A' which is greater than '0'\n",
    "\n",
    "df[df['A']>0]\n"
   ]
  },
  {
   "cell_type": "code",
   "execution_count": 36,
   "id": "dd3061b4",
   "metadata": {},
   "outputs": [
    {
     "data": {
      "text/html": [
       "<div>\n",
       "<style scoped>\n",
       "    .dataframe tbody tr th:only-of-type {\n",
       "        vertical-align: middle;\n",
       "    }\n",
       "\n",
       "    .dataframe tbody tr th {\n",
       "        vertical-align: top;\n",
       "    }\n",
       "\n",
       "    .dataframe thead th {\n",
       "        text-align: right;\n",
       "    }\n",
       "</style>\n",
       "<table border=\"1\" class=\"dataframe\">\n",
       "  <thead>\n",
       "    <tr style=\"text-align: right;\">\n",
       "      <th></th>\n",
       "      <th>A</th>\n",
       "      <th>B</th>\n",
       "      <th>C</th>\n",
       "      <th>D</th>\n",
       "    </tr>\n",
       "  </thead>\n",
       "  <tbody>\n",
       "  </tbody>\n",
       "</table>\n",
       "</div>"
      ],
      "text/plain": [
       "Empty DataFrame\n",
       "Columns: [A, B, C, D]\n",
       "Index: []"
      ]
     },
     "execution_count": 36,
     "metadata": {},
     "output_type": "execute_result"
    }
   ],
   "source": [
    "df[df['A']>2]"
   ]
  },
  {
   "cell_type": "code",
   "execution_count": 37,
   "id": "e3359ef8",
   "metadata": {},
   "outputs": [
    {
     "data": {
      "text/html": [
       "<div>\n",
       "<style scoped>\n",
       "    .dataframe tbody tr th:only-of-type {\n",
       "        vertical-align: middle;\n",
       "    }\n",
       "\n",
       "    .dataframe tbody tr th {\n",
       "        vertical-align: top;\n",
       "    }\n",
       "\n",
       "    .dataframe thead th {\n",
       "        text-align: right;\n",
       "    }\n",
       "</style>\n",
       "<table border=\"1\" class=\"dataframe\">\n",
       "  <thead>\n",
       "    <tr style=\"text-align: right;\">\n",
       "      <th></th>\n",
       "      <th>A</th>\n",
       "      <th>B</th>\n",
       "      <th>C</th>\n",
       "      <th>D</th>\n",
       "    </tr>\n",
       "  </thead>\n",
       "  <tbody>\n",
       "  </tbody>\n",
       "</table>\n",
       "</div>"
      ],
      "text/plain": [
       "Empty DataFrame\n",
       "Columns: [A, B, C, D]\n",
       "Index: []"
      ]
     },
     "execution_count": 37,
     "metadata": {},
     "output_type": "execute_result"
    }
   ],
   "source": [
    "df[df['A']>3]"
   ]
  },
  {
   "cell_type": "code",
   "execution_count": 38,
   "id": "54821ece",
   "metadata": {},
   "outputs": [
    {
     "data": {
      "text/html": [
       "<div>\n",
       "<style scoped>\n",
       "    .dataframe tbody tr th:only-of-type {\n",
       "        vertical-align: middle;\n",
       "    }\n",
       "\n",
       "    .dataframe tbody tr th {\n",
       "        vertical-align: top;\n",
       "    }\n",
       "\n",
       "    .dataframe thead th {\n",
       "        text-align: right;\n",
       "    }\n",
       "</style>\n",
       "<table border=\"1\" class=\"dataframe\">\n",
       "  <thead>\n",
       "    <tr style=\"text-align: right;\">\n",
       "      <th></th>\n",
       "      <th>A</th>\n",
       "      <th>B</th>\n",
       "      <th>C</th>\n",
       "      <th>D</th>\n",
       "      <th>E</th>\n",
       "    </tr>\n",
       "  </thead>\n",
       "  <tbody>\n",
       "    <tr>\n",
       "      <th>2021-09-28</th>\n",
       "      <td>-1.173122</td>\n",
       "      <td>0.223985</td>\n",
       "      <td>0.407908</td>\n",
       "      <td>0.813180</td>\n",
       "      <td>1.0</td>\n",
       "    </tr>\n",
       "    <tr>\n",
       "      <th>2021-09-29</th>\n",
       "      <td>0.612146</td>\n",
       "      <td>-0.288333</td>\n",
       "      <td>-0.497924</td>\n",
       "      <td>0.583481</td>\n",
       "      <td>1.0</td>\n",
       "    </tr>\n",
       "    <tr>\n",
       "      <th>2021-09-30</th>\n",
       "      <td>-0.719154</td>\n",
       "      <td>1.042569</td>\n",
       "      <td>0.519099</td>\n",
       "      <td>-1.132639</td>\n",
       "      <td>NaN</td>\n",
       "    </tr>\n",
       "    <tr>\n",
       "      <th>2021-10-01</th>\n",
       "      <td>0.135311</td>\n",
       "      <td>0.956756</td>\n",
       "      <td>0.341884</td>\n",
       "      <td>1.076625</td>\n",
       "      <td>NaN</td>\n",
       "    </tr>\n",
       "  </tbody>\n",
       "</table>\n",
       "</div>"
      ],
      "text/plain": [
       "                   A         B         C         D    E\n",
       "2021-09-28 -1.173122  0.223985  0.407908  0.813180  1.0\n",
       "2021-09-29  0.612146 -0.288333 -0.497924  0.583481  1.0\n",
       "2021-09-30 -0.719154  1.042569  0.519099 -1.132639  NaN\n",
       "2021-10-01  0.135311  0.956756  0.341884  1.076625  NaN"
      ]
     },
     "execution_count": 38,
     "metadata": {},
     "output_type": "execute_result"
    }
   ],
   "source": [
    "# handling the missing values.\n",
    "\n",
    "df2=df.reindex(index=d[0:4],columns=list(df.columns)+['E'])\n",
    "df2.loc[d[0]:d[1],'E']=1\n",
    "df2"
   ]
  },
  {
   "cell_type": "code",
   "execution_count": 39,
   "id": "560985a1",
   "metadata": {},
   "outputs": [
    {
     "data": {
      "text/html": [
       "<div>\n",
       "<style scoped>\n",
       "    .dataframe tbody tr th:only-of-type {\n",
       "        vertical-align: middle;\n",
       "    }\n",
       "\n",
       "    .dataframe tbody tr th {\n",
       "        vertical-align: top;\n",
       "    }\n",
       "\n",
       "    .dataframe thead th {\n",
       "        text-align: right;\n",
       "    }\n",
       "</style>\n",
       "<table border=\"1\" class=\"dataframe\">\n",
       "  <thead>\n",
       "    <tr style=\"text-align: right;\">\n",
       "      <th></th>\n",
       "      <th>A</th>\n",
       "      <th>B</th>\n",
       "      <th>C</th>\n",
       "      <th>D</th>\n",
       "      <th>E</th>\n",
       "    </tr>\n",
       "  </thead>\n",
       "  <tbody>\n",
       "    <tr>\n",
       "      <th>2021-09-28</th>\n",
       "      <td>False</td>\n",
       "      <td>False</td>\n",
       "      <td>False</td>\n",
       "      <td>False</td>\n",
       "      <td>False</td>\n",
       "    </tr>\n",
       "    <tr>\n",
       "      <th>2021-09-29</th>\n",
       "      <td>False</td>\n",
       "      <td>False</td>\n",
       "      <td>False</td>\n",
       "      <td>False</td>\n",
       "      <td>False</td>\n",
       "    </tr>\n",
       "    <tr>\n",
       "      <th>2021-09-30</th>\n",
       "      <td>False</td>\n",
       "      <td>False</td>\n",
       "      <td>False</td>\n",
       "      <td>False</td>\n",
       "      <td>True</td>\n",
       "    </tr>\n",
       "    <tr>\n",
       "      <th>2021-10-01</th>\n",
       "      <td>False</td>\n",
       "      <td>False</td>\n",
       "      <td>False</td>\n",
       "      <td>False</td>\n",
       "      <td>True</td>\n",
       "    </tr>\n",
       "  </tbody>\n",
       "</table>\n",
       "</div>"
      ],
      "text/plain": [
       "                A      B      C      D      E\n",
       "2021-09-28  False  False  False  False  False\n",
       "2021-09-29  False  False  False  False  False\n",
       "2021-09-30  False  False  False  False   True\n",
       "2021-10-01  False  False  False  False   True"
      ]
     },
     "execution_count": 39,
     "metadata": {},
     "output_type": "execute_result"
    }
   ],
   "source": [
    "# to check the null values\n",
    "\n",
    "df2.isnull()"
   ]
  },
  {
   "cell_type": "code",
   "execution_count": 40,
   "id": "1498e8aa",
   "metadata": {},
   "outputs": [
    {
     "data": {
      "text/html": [
       "<div>\n",
       "<style scoped>\n",
       "    .dataframe tbody tr th:only-of-type {\n",
       "        vertical-align: middle;\n",
       "    }\n",
       "\n",
       "    .dataframe tbody tr th {\n",
       "        vertical-align: top;\n",
       "    }\n",
       "\n",
       "    .dataframe thead th {\n",
       "        text-align: right;\n",
       "    }\n",
       "</style>\n",
       "<table border=\"1\" class=\"dataframe\">\n",
       "  <thead>\n",
       "    <tr style=\"text-align: right;\">\n",
       "      <th></th>\n",
       "      <th>A</th>\n",
       "      <th>B</th>\n",
       "      <th>C</th>\n",
       "      <th>D</th>\n",
       "      <th>E</th>\n",
       "    </tr>\n",
       "  </thead>\n",
       "  <tbody>\n",
       "    <tr>\n",
       "      <th>2021-09-28</th>\n",
       "      <td>-1.173122</td>\n",
       "      <td>0.223985</td>\n",
       "      <td>0.407908</td>\n",
       "      <td>0.813180</td>\n",
       "      <td>1.0</td>\n",
       "    </tr>\n",
       "    <tr>\n",
       "      <th>2021-09-29</th>\n",
       "      <td>0.612146</td>\n",
       "      <td>-0.288333</td>\n",
       "      <td>-0.497924</td>\n",
       "      <td>0.583481</td>\n",
       "      <td>1.0</td>\n",
       "    </tr>\n",
       "  </tbody>\n",
       "</table>\n",
       "</div>"
      ],
      "text/plain": [
       "                   A         B         C         D    E\n",
       "2021-09-28 -1.173122  0.223985  0.407908  0.813180  1.0\n",
       "2021-09-29  0.612146 -0.288333 -0.497924  0.583481  1.0"
      ]
     },
     "execution_count": 40,
     "metadata": {},
     "output_type": "execute_result"
    }
   ],
   "source": [
    "# to drop the column \n",
    "# it will drop the null values presented in a dtaframe\n",
    "\n",
    "df2.dropna()"
   ]
  },
  {
   "cell_type": "code",
   "execution_count": 41,
   "id": "990b3a26",
   "metadata": {},
   "outputs": [
    {
     "data": {
      "text/html": [
       "<div>\n",
       "<style scoped>\n",
       "    .dataframe tbody tr th:only-of-type {\n",
       "        vertical-align: middle;\n",
       "    }\n",
       "\n",
       "    .dataframe tbody tr th {\n",
       "        vertical-align: top;\n",
       "    }\n",
       "\n",
       "    .dataframe thead th {\n",
       "        text-align: right;\n",
       "    }\n",
       "</style>\n",
       "<table border=\"1\" class=\"dataframe\">\n",
       "  <thead>\n",
       "    <tr style=\"text-align: right;\">\n",
       "      <th></th>\n",
       "      <th>A</th>\n",
       "      <th>B</th>\n",
       "      <th>C</th>\n",
       "      <th>D</th>\n",
       "      <th>E</th>\n",
       "    </tr>\n",
       "  </thead>\n",
       "  <tbody>\n",
       "    <tr>\n",
       "      <th>2021-09-28</th>\n",
       "      <td>-1.173122</td>\n",
       "      <td>0.223985</td>\n",
       "      <td>0.407908</td>\n",
       "      <td>0.813180</td>\n",
       "      <td>1.0</td>\n",
       "    </tr>\n",
       "    <tr>\n",
       "      <th>2021-09-29</th>\n",
       "      <td>0.612146</td>\n",
       "      <td>-0.288333</td>\n",
       "      <td>-0.497924</td>\n",
       "      <td>0.583481</td>\n",
       "      <td>1.0</td>\n",
       "    </tr>\n",
       "    <tr>\n",
       "      <th>2021-09-30</th>\n",
       "      <td>-0.719154</td>\n",
       "      <td>1.042569</td>\n",
       "      <td>0.519099</td>\n",
       "      <td>-1.132639</td>\n",
       "      <td>2.0</td>\n",
       "    </tr>\n",
       "    <tr>\n",
       "      <th>2021-10-01</th>\n",
       "      <td>0.135311</td>\n",
       "      <td>0.956756</td>\n",
       "      <td>0.341884</td>\n",
       "      <td>1.076625</td>\n",
       "      <td>2.0</td>\n",
       "    </tr>\n",
       "  </tbody>\n",
       "</table>\n",
       "</div>"
      ],
      "text/plain": [
       "                   A         B         C         D    E\n",
       "2021-09-28 -1.173122  0.223985  0.407908  0.813180  1.0\n",
       "2021-09-29  0.612146 -0.288333 -0.497924  0.583481  1.0\n",
       "2021-09-30 -0.719154  1.042569  0.519099 -1.132639  2.0\n",
       "2021-10-01  0.135311  0.956756  0.341884  1.076625  2.0"
      ]
     },
     "execution_count": 41,
     "metadata": {},
     "output_type": "execute_result"
    }
   ],
   "source": [
    "# fill the missing data\n",
    "# it will fill the missing value with 2\n",
    "\n",
    "df2.fillna(value=2)"
   ]
  },
  {
   "cell_type": "code",
   "execution_count": 42,
   "id": "80913cb0",
   "metadata": {},
   "outputs": [
    {
     "data": {
      "text/plain": [
       "A    0.012813\n",
       "B    0.210679\n",
       "C    0.223618\n",
       "D    0.217862\n",
       "dtype: float64"
      ]
     },
     "execution_count": 42,
     "metadata": {},
     "output_type": "execute_result"
    }
   ],
   "source": [
    "# descriptive statistics\n",
    "# to find the mean\n",
    "\n",
    "df.mean()"
   ]
  },
  {
   "cell_type": "code",
   "execution_count": 43,
   "id": "42f86da8",
   "metadata": {},
   "outputs": [
    {
     "data": {
      "text/plain": [
       "2021-09-28    NaN\n",
       "2021-09-29    NaN\n",
       "2021-09-30    1.0\n",
       "2021-10-01    2.0\n",
       "2021-10-02    3.0\n",
       "2021-10-03    NaN\n",
       "2021-10-04    4.0\n",
       "2021-10-05    5.0\n",
       "2021-10-06    6.0\n",
       "2021-10-07    7.0\n",
       "Freq: D, dtype: float64"
      ]
     },
     "execution_count": 43,
     "metadata": {},
     "output_type": "execute_result"
    }
   ],
   "source": [
    "s=pd.Series([1,2,3,np.nan,4,5,6,7,8,9],index=d).shift(2)\n",
    "s"
   ]
  },
  {
   "cell_type": "code",
   "execution_count": 44,
   "id": "c86ffe28",
   "metadata": {},
   "outputs": [
    {
     "data": {
      "text/html": [
       "<div>\n",
       "<style scoped>\n",
       "    .dataframe tbody tr th:only-of-type {\n",
       "        vertical-align: middle;\n",
       "    }\n",
       "\n",
       "    .dataframe tbody tr th {\n",
       "        vertical-align: top;\n",
       "    }\n",
       "\n",
       "    .dataframe thead th {\n",
       "        text-align: right;\n",
       "    }\n",
       "</style>\n",
       "<table border=\"1\" class=\"dataframe\">\n",
       "  <thead>\n",
       "    <tr style=\"text-align: right;\">\n",
       "      <th></th>\n",
       "      <th>A</th>\n",
       "      <th>B</th>\n",
       "      <th>C</th>\n",
       "      <th>D</th>\n",
       "    </tr>\n",
       "  </thead>\n",
       "  <tbody>\n",
       "    <tr>\n",
       "      <th>2021-09-28</th>\n",
       "      <td>NaN</td>\n",
       "      <td>NaN</td>\n",
       "      <td>NaN</td>\n",
       "      <td>NaN</td>\n",
       "    </tr>\n",
       "    <tr>\n",
       "      <th>2021-09-29</th>\n",
       "      <td>NaN</td>\n",
       "      <td>NaN</td>\n",
       "      <td>NaN</td>\n",
       "      <td>NaN</td>\n",
       "    </tr>\n",
       "    <tr>\n",
       "      <th>2021-09-30</th>\n",
       "      <td>-1.719154</td>\n",
       "      <td>0.042569</td>\n",
       "      <td>-0.480901</td>\n",
       "      <td>-2.132639</td>\n",
       "    </tr>\n",
       "    <tr>\n",
       "      <th>2021-10-01</th>\n",
       "      <td>-1.864689</td>\n",
       "      <td>-1.043244</td>\n",
       "      <td>-1.658116</td>\n",
       "      <td>-0.923375</td>\n",
       "    </tr>\n",
       "    <tr>\n",
       "      <th>2021-10-02</th>\n",
       "      <td>-3.409616</td>\n",
       "      <td>-1.734479</td>\n",
       "      <td>-2.664041</td>\n",
       "      <td>-2.111039</td>\n",
       "    </tr>\n",
       "    <tr>\n",
       "      <th>2021-10-03</th>\n",
       "      <td>NaN</td>\n",
       "      <td>NaN</td>\n",
       "      <td>NaN</td>\n",
       "      <td>NaN</td>\n",
       "    </tr>\n",
       "    <tr>\n",
       "      <th>2021-10-04</th>\n",
       "      <td>-5.128700</td>\n",
       "      <td>-3.693278</td>\n",
       "      <td>-3.309929</td>\n",
       "      <td>-2.476233</td>\n",
       "    </tr>\n",
       "    <tr>\n",
       "      <th>2021-10-05</th>\n",
       "      <td>-3.072926</td>\n",
       "      <td>-3.920489</td>\n",
       "      <td>-6.860684</td>\n",
       "      <td>-5.051516</td>\n",
       "    </tr>\n",
       "    <tr>\n",
       "      <th>2021-10-06</th>\n",
       "      <td>-6.351911</td>\n",
       "      <td>-6.674709</td>\n",
       "      <td>-4.827673</td>\n",
       "      <td>-5.155434</td>\n",
       "    </tr>\n",
       "    <tr>\n",
       "      <th>2021-10-07</th>\n",
       "      <td>-6.130194</td>\n",
       "      <td>-7.719200</td>\n",
       "      <td>-6.114585</td>\n",
       "      <td>-8.711556</td>\n",
       "    </tr>\n",
       "  </tbody>\n",
       "</table>\n",
       "</div>"
      ],
      "text/plain": [
       "                   A         B         C         D\n",
       "2021-09-28       NaN       NaN       NaN       NaN\n",
       "2021-09-29       NaN       NaN       NaN       NaN\n",
       "2021-09-30 -1.719154  0.042569 -0.480901 -2.132639\n",
       "2021-10-01 -1.864689 -1.043244 -1.658116 -0.923375\n",
       "2021-10-02 -3.409616 -1.734479 -2.664041 -2.111039\n",
       "2021-10-03       NaN       NaN       NaN       NaN\n",
       "2021-10-04 -5.128700 -3.693278 -3.309929 -2.476233\n",
       "2021-10-05 -3.072926 -3.920489 -6.860684 -5.051516\n",
       "2021-10-06 -6.351911 -6.674709 -4.827673 -5.155434\n",
       "2021-10-07 -6.130194 -7.719200 -6.114585 -8.711556"
      ]
     },
     "execution_count": 44,
     "metadata": {},
     "output_type": "execute_result"
    }
   ],
   "source": [
    "# it substract all elamnets of df by s\n",
    "\n",
    "df.sub(s,axis='index')"
   ]
  },
  {
   "cell_type": "code",
   "execution_count": 45,
   "id": "11c424fb",
   "metadata": {},
   "outputs": [
    {
     "data": {
      "text/html": [
       "<div>\n",
       "<style scoped>\n",
       "    .dataframe tbody tr th:only-of-type {\n",
       "        vertical-align: middle;\n",
       "    }\n",
       "\n",
       "    .dataframe tbody tr th {\n",
       "        vertical-align: top;\n",
       "    }\n",
       "\n",
       "    .dataframe thead th {\n",
       "        text-align: right;\n",
       "    }\n",
       "</style>\n",
       "<table border=\"1\" class=\"dataframe\">\n",
       "  <thead>\n",
       "    <tr style=\"text-align: right;\">\n",
       "      <th></th>\n",
       "      <th>A</th>\n",
       "      <th>B</th>\n",
       "      <th>C</th>\n",
       "      <th>D</th>\n",
       "    </tr>\n",
       "  </thead>\n",
       "  <tbody>\n",
       "    <tr>\n",
       "      <th>2021-09-28</th>\n",
       "      <td>-1.173122</td>\n",
       "      <td>0.223985</td>\n",
       "      <td>0.407908</td>\n",
       "      <td>0.813180</td>\n",
       "    </tr>\n",
       "    <tr>\n",
       "      <th>2021-09-29</th>\n",
       "      <td>0.612146</td>\n",
       "      <td>-0.288333</td>\n",
       "      <td>-0.497924</td>\n",
       "      <td>0.583481</td>\n",
       "    </tr>\n",
       "    <tr>\n",
       "      <th>2021-09-30</th>\n",
       "      <td>-0.719154</td>\n",
       "      <td>1.042569</td>\n",
       "      <td>0.519099</td>\n",
       "      <td>-1.132639</td>\n",
       "    </tr>\n",
       "    <tr>\n",
       "      <th>2021-10-01</th>\n",
       "      <td>0.135311</td>\n",
       "      <td>0.956756</td>\n",
       "      <td>0.341884</td>\n",
       "      <td>1.076625</td>\n",
       "    </tr>\n",
       "    <tr>\n",
       "      <th>2021-10-02</th>\n",
       "      <td>-0.409616</td>\n",
       "      <td>1.265521</td>\n",
       "      <td>0.335959</td>\n",
       "      <td>0.888961</td>\n",
       "    </tr>\n",
       "    <tr>\n",
       "      <th>2021-10-03</th>\n",
       "      <td>0.366293</td>\n",
       "      <td>-1.086029</td>\n",
       "      <td>0.242123</td>\n",
       "      <td>-0.656250</td>\n",
       "    </tr>\n",
       "    <tr>\n",
       "      <th>2021-10-04</th>\n",
       "      <td>-1.128700</td>\n",
       "      <td>0.306722</td>\n",
       "      <td>0.690071</td>\n",
       "      <td>1.523767</td>\n",
       "    </tr>\n",
       "    <tr>\n",
       "      <th>2021-10-05</th>\n",
       "      <td>1.927074</td>\n",
       "      <td>1.079511</td>\n",
       "      <td>-1.860684</td>\n",
       "      <td>-0.051516</td>\n",
       "    </tr>\n",
       "    <tr>\n",
       "      <th>2021-10-06</th>\n",
       "      <td>-0.351911</td>\n",
       "      <td>-0.674709</td>\n",
       "      <td>1.172327</td>\n",
       "      <td>0.844566</td>\n",
       "    </tr>\n",
       "    <tr>\n",
       "      <th>2021-10-07</th>\n",
       "      <td>0.869806</td>\n",
       "      <td>-0.719200</td>\n",
       "      <td>0.885415</td>\n",
       "      <td>-1.711556</td>\n",
       "    </tr>\n",
       "  </tbody>\n",
       "</table>\n",
       "</div>"
      ],
      "text/plain": [
       "                   A         B         C         D\n",
       "2021-09-28 -1.173122  0.223985  0.407908  0.813180\n",
       "2021-09-29  0.612146 -0.288333 -0.497924  0.583481\n",
       "2021-09-30 -0.719154  1.042569  0.519099 -1.132639\n",
       "2021-10-01  0.135311  0.956756  0.341884  1.076625\n",
       "2021-10-02 -0.409616  1.265521  0.335959  0.888961\n",
       "2021-10-03  0.366293 -1.086029  0.242123 -0.656250\n",
       "2021-10-04 -1.128700  0.306722  0.690071  1.523767\n",
       "2021-10-05  1.927074  1.079511 -1.860684 -0.051516\n",
       "2021-10-06 -0.351911 -0.674709  1.172327  0.844566\n",
       "2021-10-07  0.869806 -0.719200  0.885415 -1.711556"
      ]
     },
     "execution_count": 45,
     "metadata": {},
     "output_type": "execute_result"
    }
   ],
   "source": [
    "df"
   ]
  },
  {
   "cell_type": "code",
   "execution_count": 46,
   "id": "b194bebd",
   "metadata": {},
   "outputs": [
    {
     "data": {
      "text/html": [
       "<div>\n",
       "<style scoped>\n",
       "    .dataframe tbody tr th:only-of-type {\n",
       "        vertical-align: middle;\n",
       "    }\n",
       "\n",
       "    .dataframe tbody tr th {\n",
       "        vertical-align: top;\n",
       "    }\n",
       "\n",
       "    .dataframe thead th {\n",
       "        text-align: right;\n",
       "    }\n",
       "</style>\n",
       "<table border=\"1\" class=\"dataframe\">\n",
       "  <thead>\n",
       "    <tr style=\"text-align: right;\">\n",
       "      <th></th>\n",
       "      <th>A</th>\n",
       "      <th>B</th>\n",
       "      <th>C</th>\n",
       "      <th>D</th>\n",
       "    </tr>\n",
       "  </thead>\n",
       "  <tbody>\n",
       "    <tr>\n",
       "      <th>2021-09-28</th>\n",
       "      <td>-1.173122</td>\n",
       "      <td>0.223985</td>\n",
       "      <td>0.407908</td>\n",
       "      <td>0.813180</td>\n",
       "    </tr>\n",
       "    <tr>\n",
       "      <th>2021-09-29</th>\n",
       "      <td>-0.560977</td>\n",
       "      <td>-0.064348</td>\n",
       "      <td>-0.090016</td>\n",
       "      <td>1.396662</td>\n",
       "    </tr>\n",
       "    <tr>\n",
       "      <th>2021-09-30</th>\n",
       "      <td>-1.280131</td>\n",
       "      <td>0.978220</td>\n",
       "      <td>0.429083</td>\n",
       "      <td>0.264022</td>\n",
       "    </tr>\n",
       "    <tr>\n",
       "      <th>2021-10-01</th>\n",
       "      <td>-1.144820</td>\n",
       "      <td>1.934976</td>\n",
       "      <td>0.770967</td>\n",
       "      <td>1.340648</td>\n",
       "    </tr>\n",
       "    <tr>\n",
       "      <th>2021-10-02</th>\n",
       "      <td>-1.554436</td>\n",
       "      <td>3.200497</td>\n",
       "      <td>1.106926</td>\n",
       "      <td>2.229609</td>\n",
       "    </tr>\n",
       "    <tr>\n",
       "      <th>2021-10-03</th>\n",
       "      <td>-1.188143</td>\n",
       "      <td>2.114468</td>\n",
       "      <td>1.349049</td>\n",
       "      <td>1.573359</td>\n",
       "    </tr>\n",
       "    <tr>\n",
       "      <th>2021-10-04</th>\n",
       "      <td>-2.316843</td>\n",
       "      <td>2.421190</td>\n",
       "      <td>2.039120</td>\n",
       "      <td>3.097126</td>\n",
       "    </tr>\n",
       "    <tr>\n",
       "      <th>2021-10-05</th>\n",
       "      <td>-0.389768</td>\n",
       "      <td>3.500702</td>\n",
       "      <td>0.178436</td>\n",
       "      <td>3.045610</td>\n",
       "    </tr>\n",
       "    <tr>\n",
       "      <th>2021-10-06</th>\n",
       "      <td>-0.741679</td>\n",
       "      <td>2.825993</td>\n",
       "      <td>1.350763</td>\n",
       "      <td>3.890176</td>\n",
       "    </tr>\n",
       "    <tr>\n",
       "      <th>2021-10-07</th>\n",
       "      <td>0.128127</td>\n",
       "      <td>2.106793</td>\n",
       "      <td>2.236178</td>\n",
       "      <td>2.178620</td>\n",
       "    </tr>\n",
       "  </tbody>\n",
       "</table>\n",
       "</div>"
      ],
      "text/plain": [
       "                   A         B         C         D\n",
       "2021-09-28 -1.173122  0.223985  0.407908  0.813180\n",
       "2021-09-29 -0.560977 -0.064348 -0.090016  1.396662\n",
       "2021-09-30 -1.280131  0.978220  0.429083  0.264022\n",
       "2021-10-01 -1.144820  1.934976  0.770967  1.340648\n",
       "2021-10-02 -1.554436  3.200497  1.106926  2.229609\n",
       "2021-10-03 -1.188143  2.114468  1.349049  1.573359\n",
       "2021-10-04 -2.316843  2.421190  2.039120  3.097126\n",
       "2021-10-05 -0.389768  3.500702  0.178436  3.045610\n",
       "2021-10-06 -0.741679  2.825993  1.350763  3.890176\n",
       "2021-10-07  0.128127  2.106793  2.236178  2.178620"
      ]
     },
     "execution_count": 46,
     "metadata": {},
     "output_type": "execute_result"
    }
   ],
   "source": [
    "# to apply some functions\n",
    "# cumsum is used to find the cumulative sum value over any axis\n",
    "\n",
    "df.apply(np.cumsum)"
   ]
  },
  {
   "cell_type": "code",
   "execution_count": 47,
   "id": "c4658d98",
   "metadata": {},
   "outputs": [
    {
     "data": {
      "text/plain": [
       "A    3.100197\n",
       "B    2.351550\n",
       "C    3.033011\n",
       "D    3.235323\n",
       "dtype: float64"
      ]
     },
     "execution_count": 47,
     "metadata": {},
     "output_type": "execute_result"
    }
   ],
   "source": [
    "# lambda function will take any number of arguements but can only have one expression\n",
    "# it give the substraction of x.max and x.min\n",
    "\n",
    "df.apply(lambda x:x.max()-x.min())"
   ]
  },
  {
   "cell_type": "code",
   "execution_count": 48,
   "id": "9c5d7fd6",
   "metadata": {},
   "outputs": [
    {
     "data": {
      "text/plain": [
       "1.0    1\n",
       "2.0    1\n",
       "3.0    1\n",
       "4.0    1\n",
       "5.0    1\n",
       "6.0    1\n",
       "7.0    1\n",
       "dtype: int64"
      ]
     },
     "execution_count": 48,
     "metadata": {},
     "output_type": "execute_result"
    }
   ],
   "source": [
    "# histograms ------histogram is a representation of distribution of data\n",
    "# the value_counts() fumction returns a series that contains count of unique values.\n",
    "\n",
    "s.value_counts()"
   ]
  },
  {
   "cell_type": "code",
   "execution_count": 49,
   "id": "b579cb40",
   "metadata": {},
   "outputs": [
    {
     "data": {
      "text/plain": [
       "0     PANDAS\n",
       "1     PYHTON\n",
       "2    JUPYTER\n",
       "3        NaN\n",
       "4       JAVA\n",
       "5      COLAB\n",
       "dtype: object"
      ]
     },
     "execution_count": 49,
     "metadata": {},
     "output_type": "execute_result"
    }
   ],
   "source": [
    "s=pd.Series (['pandas','pyhton','jupyter',np.nan,'java','colab'])\n",
    "\n",
    "# string method inside pandas\n",
    "\n",
    "s.str.upper()"
   ]
  },
  {
   "cell_type": "code",
   "execution_count": 50,
   "id": "aa658e36",
   "metadata": {},
   "outputs": [
    {
     "data": {
      "text/html": [
       "<div>\n",
       "<style scoped>\n",
       "    .dataframe tbody tr th:only-of-type {\n",
       "        vertical-align: middle;\n",
       "    }\n",
       "\n",
       "    .dataframe tbody tr th {\n",
       "        vertical-align: top;\n",
       "    }\n",
       "\n",
       "    .dataframe thead th {\n",
       "        text-align: right;\n",
       "    }\n",
       "</style>\n",
       "<table border=\"1\" class=\"dataframe\">\n",
       "  <thead>\n",
       "    <tr style=\"text-align: right;\">\n",
       "      <th></th>\n",
       "      <th>0</th>\n",
       "      <th>1</th>\n",
       "      <th>2</th>\n",
       "      <th>3</th>\n",
       "    </tr>\n",
       "  </thead>\n",
       "  <tbody>\n",
       "    <tr>\n",
       "      <th>0</th>\n",
       "      <td>-0.847186</td>\n",
       "      <td>1.212077</td>\n",
       "      <td>1.224773</td>\n",
       "      <td>0.668952</td>\n",
       "    </tr>\n",
       "    <tr>\n",
       "      <th>1</th>\n",
       "      <td>-1.056578</td>\n",
       "      <td>0.688156</td>\n",
       "      <td>1.291046</td>\n",
       "      <td>-1.284948</td>\n",
       "    </tr>\n",
       "    <tr>\n",
       "      <th>2</th>\n",
       "      <td>-0.544453</td>\n",
       "      <td>1.198856</td>\n",
       "      <td>-0.299926</td>\n",
       "      <td>0.870706</td>\n",
       "    </tr>\n",
       "    <tr>\n",
       "      <th>3</th>\n",
       "      <td>1.417611</td>\n",
       "      <td>0.412615</td>\n",
       "      <td>-1.740939</td>\n",
       "      <td>-1.719684</td>\n",
       "    </tr>\n",
       "    <tr>\n",
       "      <th>4</th>\n",
       "      <td>0.439608</td>\n",
       "      <td>0.193715</td>\n",
       "      <td>0.409071</td>\n",
       "      <td>-0.317295</td>\n",
       "    </tr>\n",
       "    <tr>\n",
       "      <th>5</th>\n",
       "      <td>-0.591894</td>\n",
       "      <td>-1.842492</td>\n",
       "      <td>1.476563</td>\n",
       "      <td>-0.791131</td>\n",
       "    </tr>\n",
       "    <tr>\n",
       "      <th>6</th>\n",
       "      <td>1.861669</td>\n",
       "      <td>1.330856</td>\n",
       "      <td>-0.236327</td>\n",
       "      <td>0.883672</td>\n",
       "    </tr>\n",
       "    <tr>\n",
       "      <th>7</th>\n",
       "      <td>0.654703</td>\n",
       "      <td>-0.368077</td>\n",
       "      <td>0.759651</td>\n",
       "      <td>-0.272127</td>\n",
       "    </tr>\n",
       "    <tr>\n",
       "      <th>8</th>\n",
       "      <td>0.166411</td>\n",
       "      <td>-0.965458</td>\n",
       "      <td>-1.159232</td>\n",
       "      <td>1.985258</td>\n",
       "    </tr>\n",
       "    <tr>\n",
       "      <th>9</th>\n",
       "      <td>1.047193</td>\n",
       "      <td>-0.071066</td>\n",
       "      <td>0.137765</td>\n",
       "      <td>0.993659</td>\n",
       "    </tr>\n",
       "  </tbody>\n",
       "</table>\n",
       "</div>"
      ],
      "text/plain": [
       "          0         1         2         3\n",
       "0 -0.847186  1.212077  1.224773  0.668952\n",
       "1 -1.056578  0.688156  1.291046 -1.284948\n",
       "2 -0.544453  1.198856 -0.299926  0.870706\n",
       "3  1.417611  0.412615 -1.740939 -1.719684\n",
       "4  0.439608  0.193715  0.409071 -0.317295\n",
       "5 -0.591894 -1.842492  1.476563 -0.791131\n",
       "6  1.861669  1.330856 -0.236327  0.883672\n",
       "7  0.654703 -0.368077  0.759651 -0.272127\n",
       "8  0.166411 -0.965458 -1.159232  1.985258\n",
       "9  1.047193 -0.071066  0.137765  0.993659"
      ]
     },
     "execution_count": 50,
     "metadata": {},
     "output_type": "execute_result"
    }
   ],
   "source": [
    "df=pd.DataFrame (np.random.randn(10,4))\n",
    "df"
   ]
  },
  {
   "cell_type": "code",
   "execution_count": 68,
   "id": "5c5b3c59",
   "metadata": {},
   "outputs": [
    {
     "data": {
      "text/plain": [
       "[                   A         B         C         D         C\n",
       " 2021-09-28  0.218384  0.541962  0.822330  3.272918  1.844933\n",
       " 2021-09-29 -1.539574  0.838420 -2.363661  1.579005  0.205660\n",
       " 2021-09-30  0.412593 -1.666125 -0.076985  1.320959 -0.959479,\n",
       " DatetimeIndex(['2021-10-01', '2021-10-02', '2021-10-03'], dtype='datetime64[ns]', freq='D'),\n",
       "                    A         B         C         D         C\n",
       " 2021-10-04 -1.043123  0.378604 -0.198903 -0.474805  0.325071\n",
       " 2021-10-05 -0.845787  1.409765 -0.705643 -1.653317  0.435342\n",
       " 2021-10-06  1.967871 -0.354635 -0.509418 -0.210578  0.788403\n",
       " 2021-10-07 -1.514697  0.802711 -0.696016  0.255641 -1.766634]"
      ]
     },
     "execution_count": 68,
     "metadata": {},
     "output_type": "execute_result"
    }
   ],
   "source": [
    "# break the datframe \n",
    "\n",
    "df2=[df[:3],d[3:6],df[6:10]]\n",
    "df2"
   ]
  },
  {
   "cell_type": "code",
   "execution_count": 69,
   "id": "ad0b6051",
   "metadata": {},
   "outputs": [
    {
     "ename": "TypeError",
     "evalue": "cannot concatenate object of type '<class 'pandas.core.indexes.datetimes.DatetimeIndex'>'; only Series and DataFrame objs are valid",
     "output_type": "error",
     "traceback": [
      "\u001b[1;31m---------------------------------------------------------------------------\u001b[0m",
      "\u001b[1;31mTypeError\u001b[0m                                 Traceback (most recent call last)",
      "\u001b[1;32m~\\AppData\\Local\\Temp\\ipykernel_22316\\2113761063.py\u001b[0m in \u001b[0;36m<module>\u001b[1;34m\u001b[0m\n\u001b[0;32m      1\u001b[0m \u001b[1;31m# concat the several pieces\u001b[0m\u001b[1;33m\u001b[0m\u001b[1;33m\u001b[0m\u001b[0m\n\u001b[0;32m      2\u001b[0m \u001b[1;33m\u001b[0m\u001b[0m\n\u001b[1;32m----> 3\u001b[1;33m \u001b[0mpd\u001b[0m\u001b[1;33m.\u001b[0m\u001b[0mconcat\u001b[0m\u001b[1;33m(\u001b[0m\u001b[0mdf2\u001b[0m\u001b[1;33m)\u001b[0m\u001b[1;33m\u001b[0m\u001b[1;33m\u001b[0m\u001b[0m\n\u001b[0m",
      "\u001b[1;32m~\\anaconda3\\lib\\site-packages\\pandas\\util\\_decorators.py\u001b[0m in \u001b[0;36mwrapper\u001b[1;34m(*args, **kwargs)\u001b[0m\n\u001b[0;32m    309\u001b[0m                     \u001b[0mstacklevel\u001b[0m\u001b[1;33m=\u001b[0m\u001b[0mstacklevel\u001b[0m\u001b[1;33m,\u001b[0m\u001b[1;33m\u001b[0m\u001b[1;33m\u001b[0m\u001b[0m\n\u001b[0;32m    310\u001b[0m                 )\n\u001b[1;32m--> 311\u001b[1;33m             \u001b[1;32mreturn\u001b[0m \u001b[0mfunc\u001b[0m\u001b[1;33m(\u001b[0m\u001b[1;33m*\u001b[0m\u001b[0margs\u001b[0m\u001b[1;33m,\u001b[0m \u001b[1;33m**\u001b[0m\u001b[0mkwargs\u001b[0m\u001b[1;33m)\u001b[0m\u001b[1;33m\u001b[0m\u001b[1;33m\u001b[0m\u001b[0m\n\u001b[0m\u001b[0;32m    312\u001b[0m \u001b[1;33m\u001b[0m\u001b[0m\n\u001b[0;32m    313\u001b[0m         \u001b[1;32mreturn\u001b[0m \u001b[0mwrapper\u001b[0m\u001b[1;33m\u001b[0m\u001b[1;33m\u001b[0m\u001b[0m\n",
      "\u001b[1;32m~\\anaconda3\\lib\\site-packages\\pandas\\core\\reshape\\concat.py\u001b[0m in \u001b[0;36mconcat\u001b[1;34m(objs, axis, join, ignore_index, keys, levels, names, verify_integrity, sort, copy)\u001b[0m\n\u001b[0;32m    345\u001b[0m     \u001b[0mValueError\u001b[0m\u001b[1;33m:\u001b[0m \u001b[0mIndexes\u001b[0m \u001b[0mhave\u001b[0m \u001b[0moverlapping\u001b[0m \u001b[0mvalues\u001b[0m\u001b[1;33m:\u001b[0m \u001b[1;33m[\u001b[0m\u001b[1;34m'a'\u001b[0m\u001b[1;33m]\u001b[0m\u001b[1;33m\u001b[0m\u001b[1;33m\u001b[0m\u001b[0m\n\u001b[0;32m    346\u001b[0m     \"\"\"\n\u001b[1;32m--> 347\u001b[1;33m     op = _Concatenator(\n\u001b[0m\u001b[0;32m    348\u001b[0m         \u001b[0mobjs\u001b[0m\u001b[1;33m,\u001b[0m\u001b[1;33m\u001b[0m\u001b[1;33m\u001b[0m\u001b[0m\n\u001b[0;32m    349\u001b[0m         \u001b[0maxis\u001b[0m\u001b[1;33m=\u001b[0m\u001b[0maxis\u001b[0m\u001b[1;33m,\u001b[0m\u001b[1;33m\u001b[0m\u001b[1;33m\u001b[0m\u001b[0m\n",
      "\u001b[1;32m~\\anaconda3\\lib\\site-packages\\pandas\\core\\reshape\\concat.py\u001b[0m in \u001b[0;36m__init__\u001b[1;34m(self, objs, axis, join, keys, levels, names, ignore_index, verify_integrity, copy, sort)\u001b[0m\n\u001b[0;32m    435\u001b[0m                     \u001b[1;34m\"only Series and DataFrame objs are valid\"\u001b[0m\u001b[1;33m\u001b[0m\u001b[1;33m\u001b[0m\u001b[0m\n\u001b[0;32m    436\u001b[0m                 )\n\u001b[1;32m--> 437\u001b[1;33m                 \u001b[1;32mraise\u001b[0m \u001b[0mTypeError\u001b[0m\u001b[1;33m(\u001b[0m\u001b[0mmsg\u001b[0m\u001b[1;33m)\u001b[0m\u001b[1;33m\u001b[0m\u001b[1;33m\u001b[0m\u001b[0m\n\u001b[0m\u001b[0;32m    438\u001b[0m \u001b[1;33m\u001b[0m\u001b[0m\n\u001b[0;32m    439\u001b[0m             \u001b[0mndims\u001b[0m\u001b[1;33m.\u001b[0m\u001b[0madd\u001b[0m\u001b[1;33m(\u001b[0m\u001b[0mobj\u001b[0m\u001b[1;33m.\u001b[0m\u001b[0mndim\u001b[0m\u001b[1;33m)\u001b[0m\u001b[1;33m\u001b[0m\u001b[1;33m\u001b[0m\u001b[0m\n",
      "\u001b[1;31mTypeError\u001b[0m: cannot concatenate object of type '<class 'pandas.core.indexes.datetimes.DatetimeIndex'>'; only Series and DataFrame objs are valid"
     ]
    }
   ],
   "source": [
    "# concat the several pieces\n",
    "\n",
    "pd.concat(df2)"
   ]
  },
  {
   "cell_type": "code",
   "execution_count": 53,
   "id": "067a250f",
   "metadata": {},
   "outputs": [],
   "source": [
    "# # left joining\n",
    "# left= pd.DataFrame ({'A':[1,2],'B':[3,4]})"
   ]
  },
  {
   "cell_type": "code",
   "execution_count": 54,
   "id": "7c652957",
   "metadata": {},
   "outputs": [
    {
     "data": {
      "text/html": [
       "<div>\n",
       "<style scoped>\n",
       "    .dataframe tbody tr th:only-of-type {\n",
       "        vertical-align: middle;\n",
       "    }\n",
       "\n",
       "    .dataframe tbody tr th {\n",
       "        vertical-align: top;\n",
       "    }\n",
       "\n",
       "    .dataframe thead th {\n",
       "        text-align: right;\n",
       "    }\n",
       "</style>\n",
       "<table border=\"1\" class=\"dataframe\">\n",
       "  <thead>\n",
       "    <tr style=\"text-align: right;\">\n",
       "      <th></th>\n",
       "      <th>0</th>\n",
       "      <th>1</th>\n",
       "      <th>2</th>\n",
       "      <th>3</th>\n",
       "    </tr>\n",
       "  </thead>\n",
       "  <tbody>\n",
       "    <tr>\n",
       "      <th>0</th>\n",
       "      <td>-0.847186</td>\n",
       "      <td>1.212077</td>\n",
       "      <td>1.224773</td>\n",
       "      <td>0.668952</td>\n",
       "    </tr>\n",
       "    <tr>\n",
       "      <th>1</th>\n",
       "      <td>-1.056578</td>\n",
       "      <td>0.688156</td>\n",
       "      <td>1.291046</td>\n",
       "      <td>-1.284948</td>\n",
       "    </tr>\n",
       "    <tr>\n",
       "      <th>2</th>\n",
       "      <td>-0.544453</td>\n",
       "      <td>1.198856</td>\n",
       "      <td>-0.299926</td>\n",
       "      <td>0.870706</td>\n",
       "    </tr>\n",
       "    <tr>\n",
       "      <th>3</th>\n",
       "      <td>1.417611</td>\n",
       "      <td>0.412615</td>\n",
       "      <td>-1.740939</td>\n",
       "      <td>-1.719684</td>\n",
       "    </tr>\n",
       "    <tr>\n",
       "      <th>4</th>\n",
       "      <td>0.439608</td>\n",
       "      <td>0.193715</td>\n",
       "      <td>0.409071</td>\n",
       "      <td>-0.317295</td>\n",
       "    </tr>\n",
       "    <tr>\n",
       "      <th>5</th>\n",
       "      <td>-0.591894</td>\n",
       "      <td>-1.842492</td>\n",
       "      <td>1.476563</td>\n",
       "      <td>-0.791131</td>\n",
       "    </tr>\n",
       "    <tr>\n",
       "      <th>6</th>\n",
       "      <td>1.861669</td>\n",
       "      <td>1.330856</td>\n",
       "      <td>-0.236327</td>\n",
       "      <td>0.883672</td>\n",
       "    </tr>\n",
       "    <tr>\n",
       "      <th>7</th>\n",
       "      <td>0.654703</td>\n",
       "      <td>-0.368077</td>\n",
       "      <td>0.759651</td>\n",
       "      <td>-0.272127</td>\n",
       "    </tr>\n",
       "    <tr>\n",
       "      <th>8</th>\n",
       "      <td>0.166411</td>\n",
       "      <td>-0.965458</td>\n",
       "      <td>-1.159232</td>\n",
       "      <td>1.985258</td>\n",
       "    </tr>\n",
       "    <tr>\n",
       "      <th>9</th>\n",
       "      <td>1.047193</td>\n",
       "      <td>-0.071066</td>\n",
       "      <td>0.137765</td>\n",
       "      <td>0.993659</td>\n",
       "    </tr>\n",
       "  </tbody>\n",
       "</table>\n",
       "</div>"
      ],
      "text/plain": [
       "          0         1         2         3\n",
       "0 -0.847186  1.212077  1.224773  0.668952\n",
       "1 -1.056578  0.688156  1.291046 -1.284948\n",
       "2 -0.544453  1.198856 -0.299926  0.870706\n",
       "3  1.417611  0.412615 -1.740939 -1.719684\n",
       "4  0.439608  0.193715  0.409071 -0.317295\n",
       "5 -0.591894 -1.842492  1.476563 -0.791131\n",
       "6  1.861669  1.330856 -0.236327  0.883672\n",
       "7  0.654703 -0.368077  0.759651 -0.272127\n",
       "8  0.166411 -0.965458 -1.159232  1.985258\n",
       "9  1.047193 -0.071066  0.137765  0.993659"
      ]
     },
     "execution_count": 54,
     "metadata": {},
     "output_type": "execute_result"
    }
   ],
   "source": [
    "# right joining\n",
    "\n",
    "# right = pd.DtaFrame({'a':[1,2],'B':[3,4]})\n",
    "\n",
    "# left\n",
    "\n",
    "# right\n",
    "\n",
    "# pd.merge(left,right,on='A')\n",
    "\n",
    "df"
   ]
  },
  {
   "cell_type": "code",
   "execution_count": 75,
   "id": "35aa91c2",
   "metadata": {},
   "outputs": [
    {
     "data": {
      "text/html": [
       "<div>\n",
       "<style scoped>\n",
       "    .dataframe tbody tr th:only-of-type {\n",
       "        vertical-align: middle;\n",
       "    }\n",
       "\n",
       "    .dataframe tbody tr th {\n",
       "        vertical-align: top;\n",
       "    }\n",
       "\n",
       "    .dataframe thead th {\n",
       "        text-align: right;\n",
       "    }\n",
       "</style>\n",
       "<table border=\"1\" class=\"dataframe\">\n",
       "  <thead>\n",
       "    <tr style=\"text-align: right;\">\n",
       "      <th></th>\n",
       "      <th>B</th>\n",
       "      <th>C</th>\n",
       "      <th>D</th>\n",
       "      <th>C</th>\n",
       "    </tr>\n",
       "    <tr>\n",
       "      <th>A</th>\n",
       "      <th></th>\n",
       "      <th></th>\n",
       "      <th></th>\n",
       "      <th></th>\n",
       "    </tr>\n",
       "  </thead>\n",
       "  <tbody>\n",
       "    <tr>\n",
       "      <th>-1.539574</th>\n",
       "      <td>0.838420</td>\n",
       "      <td>-2.363661</td>\n",
       "      <td>1.579005</td>\n",
       "      <td>0.205660</td>\n",
       "    </tr>\n",
       "    <tr>\n",
       "      <th>-1.514697</th>\n",
       "      <td>0.802711</td>\n",
       "      <td>-0.696016</td>\n",
       "      <td>0.255641</td>\n",
       "      <td>-1.766634</td>\n",
       "    </tr>\n",
       "    <tr>\n",
       "      <th>-1.043123</th>\n",
       "      <td>0.378604</td>\n",
       "      <td>-0.198903</td>\n",
       "      <td>-0.474805</td>\n",
       "      <td>0.325071</td>\n",
       "    </tr>\n",
       "    <tr>\n",
       "      <th>-0.845787</th>\n",
       "      <td>1.409765</td>\n",
       "      <td>-0.705643</td>\n",
       "      <td>-1.653317</td>\n",
       "      <td>0.435342</td>\n",
       "    </tr>\n",
       "    <tr>\n",
       "      <th>-0.244455</th>\n",
       "      <td>0.749179</td>\n",
       "      <td>-0.916129</td>\n",
       "      <td>0.254236</td>\n",
       "      <td>-0.407305</td>\n",
       "    </tr>\n",
       "    <tr>\n",
       "      <th>0.002550</th>\n",
       "      <td>-0.245607</td>\n",
       "      <td>-0.385489</td>\n",
       "      <td>-0.469535</td>\n",
       "      <td>1.428300</td>\n",
       "    </tr>\n",
       "    <tr>\n",
       "      <th>0.218384</th>\n",
       "      <td>0.541962</td>\n",
       "      <td>0.822330</td>\n",
       "      <td>3.272918</td>\n",
       "      <td>1.844933</td>\n",
       "    </tr>\n",
       "    <tr>\n",
       "      <th>0.412593</th>\n",
       "      <td>-1.666125</td>\n",
       "      <td>-0.076985</td>\n",
       "      <td>1.320959</td>\n",
       "      <td>-0.959479</td>\n",
       "    </tr>\n",
       "    <tr>\n",
       "      <th>0.697043</th>\n",
       "      <td>-0.528134</td>\n",
       "      <td>-1.285951</td>\n",
       "      <td>0.147407</td>\n",
       "      <td>-1.440399</td>\n",
       "    </tr>\n",
       "    <tr>\n",
       "      <th>1.967871</th>\n",
       "      <td>-0.354635</td>\n",
       "      <td>-0.509418</td>\n",
       "      <td>-0.210578</td>\n",
       "      <td>0.788403</td>\n",
       "    </tr>\n",
       "  </tbody>\n",
       "</table>\n",
       "</div>"
      ],
      "text/plain": [
       "                  B         C         D         C\n",
       "A                                                \n",
       "-1.539574  0.838420 -2.363661  1.579005  0.205660\n",
       "-1.514697  0.802711 -0.696016  0.255641 -1.766634\n",
       "-1.043123  0.378604 -0.198903 -0.474805  0.325071\n",
       "-0.845787  1.409765 -0.705643 -1.653317  0.435342\n",
       "-0.244455  0.749179 -0.916129  0.254236 -0.407305\n",
       " 0.002550 -0.245607 -0.385489 -0.469535  1.428300\n",
       " 0.218384  0.541962  0.822330  3.272918  1.844933\n",
       " 0.412593 -1.666125 -0.076985  1.320959 -0.959479\n",
       " 0.697043 -0.528134 -1.285951  0.147407 -1.440399\n",
       " 1.967871 -0.354635 -0.509418 -0.210578  0.788403"
      ]
     },
     "execution_count": 75,
     "metadata": {},
     "output_type": "execute_result"
    }
   ],
   "source": [
    "# grouping\n",
    "\n",
    "df.groupby([\"A\"]).sum()"
   ]
  },
  {
   "cell_type": "code",
   "execution_count": null,
   "id": "f22f4a37",
   "metadata": {},
   "outputs": [],
   "source": [
    "# # reshape the datframe wrok\n",
    "\n",
    "# my_tuple=list(zip(*[[1,2,3,4,5,17,18,19],[11,12,13,7,8,9,10]]))\n",
    "# index=pd.MultiIndex.from my_tuples(my_tuple,names=['first','second'])\n",
    "# df=pd.DataFrame(np.random.randn(8,2),index=index,columns=['A','B'])\n",
    "# df2=df[:2]\n",
    "# df2"
   ]
  },
  {
   "cell_type": "code",
   "execution_count": null,
   "id": "42d7e503",
   "metadata": {},
   "outputs": [],
   "source": [
    "# df2.stack()"
   ]
  },
  {
   "cell_type": "code",
   "execution_count": null,
   "id": "391cdd2f",
   "metadata": {},
   "outputs": [],
   "source": [
    "# # stack has multiindex as indexes\n",
    "# # inverse stack is unstack"
   ]
  },
  {
   "cell_type": "code",
   "execution_count": null,
   "id": "a052f52a",
   "metadata": {},
   "outputs": [],
   "source": [
    "# df2.unstack()"
   ]
  },
  {
   "cell_type": "code",
   "execution_count": null,
   "id": "9e12c225",
   "metadata": {},
   "outputs": [],
   "source": [
    "# #pivot table\n",
    "# df= pd.DataFrame({'A':['a','b','c','d']*3,\n",
    "#                   'B':['A','B','C']* 4,\n",
    "#                   'C':['P','P','P','Q','Q','Q']*2\n",
    "#                   'D':np.random.randn(12),\n",
    "#                   'E':np.random.randn(12)})\n",
    "#df"
   ]
  },
  {
   "cell_type": "code",
   "execution_count": null,
   "id": "ff5237a6",
   "metadata": {},
   "outputs": [],
   "source": [
    "# pd.pivot_table(df,values='D',index=['A','B'],columns=['C'])"
   ]
  },
  {
   "cell_type": "code",
   "execution_count": null,
   "id": "93d35c6c",
   "metadata": {},
   "outputs": [],
   "source": [
    "# dates=pd.date_range('30/09/2021 00:00',periods=5,freq='5')\n",
    "# dates"
   ]
  },
  {
   "cell_type": "code",
   "execution_count": null,
   "id": "3b99b274",
   "metadata": {},
   "outputs": [],
   "source": [
    "# ts= pd.Series(np.random.randint(len(dates)),dates)"
   ]
  },
  {
   "cell_type": "code",
   "execution_count": null,
   "id": "bf29756f",
   "metadata": {},
   "outputs": [],
   "source": [
    "# ts\n"
   ]
  },
  {
   "cell_type": "code",
   "execution_count": null,
   "id": "43af8843",
   "metadata": {},
   "outputs": [],
   "source": [
    "# ts_utc=ts.tz_localize('UIC')"
   ]
  },
  {
   "cell_type": "code",
   "execution_count": null,
   "id": "357c9846",
   "metadata": {},
   "outputs": [],
   "source": [
    "# ts_utc"
   ]
  },
  {
   "cell_type": "code",
   "execution_count": null,
   "id": "62cc183a",
   "metadata": {},
   "outputs": [],
   "source": [
    "# ts_utc_ttz_convert('Us/Eastern')"
   ]
  },
  {
   "cell_type": "code",
   "execution_count": null,
   "id": "d15d44fe",
   "metadata": {},
   "outputs": [],
   "source": [
    "# dates=pd.date_range('30/09/2021',periods=5,freq='M')"
   ]
  },
  {
   "cell_type": "code",
   "execution_count": null,
   "id": "1b8f69d6",
   "metadata": {},
   "outputs": [],
   "source": [
    "# ts=pd.series(np.random.randint(len(dates)),dates)\n",
    "# ts"
   ]
  },
  {
   "cell_type": "code",
   "execution_count": null,
   "id": "1ba2aa39",
   "metadata": {},
   "outputs": [],
   "source": [
    "# ps=ts.to_period()"
   ]
  },
  {
   "cell_type": "code",
   "execution_count": null,
   "id": "4d183153",
   "metadata": {},
   "outputs": [],
   "source": [
    "# ps"
   ]
  },
  {
   "cell_type": "code",
   "execution_count": null,
   "id": "ea6597d0",
   "metadata": {},
   "outputs": [],
   "source": [
    "# ps.to_timestamp()"
   ]
  },
  {
   "cell_type": "code",
   "execution_count": null,
   "id": "0ec776b5",
   "metadata": {},
   "outputs": [],
   "source": [
    "# df = dataFrame({'id':[1,2,3,4,5,6],\n",
    "#               \"grade\":['a','b','c','b','a','e']})"
   ]
  },
  {
   "cell_type": "code",
   "execution_count": null,
   "id": "95069aba",
   "metadata": {},
   "outputs": [],
   "source": [
    "# df"
   ]
  },
  {
   "cell_type": "code",
   "execution_count": null,
   "id": "6c6a158f",
   "metadata": {},
   "outputs": [],
   "source": [
    "# df ['grade']=df['grade'].astype(\"catogary\")"
   ]
  },
  {
   "cell_type": "code",
   "execution_count": null,
   "id": "0b16e5e7",
   "metadata": {},
   "outputs": [],
   "source": [
    "# df['Grade']"
   ]
  },
  {
   "cell_type": "code",
   "execution_count": null,
   "id": "eddd1812",
   "metadata": {},
   "outputs": [],
   "source": [
    "# df['Grade'].cat.categories = ['good','very bad','very good','excellent']"
   ]
  },
  {
   "cell_type": "code",
   "execution_count": null,
   "id": "463aac43",
   "metadata": {},
   "outputs": [],
   "source": [
    "# df['Grade']= df['Grade'].cat.set_categories([\"very good\",\"bad\",\"very bad\",\"good\",\"medium\"])\n",
    "# df[\"Grade\"]"
   ]
  },
  {
   "cell_type": "code",
   "execution_count": 66,
   "id": "be9ca8c4",
   "metadata": {},
   "outputs": [
    {
     "data": {
      "text/plain": [
       "[                   A         B         C         D         C\n",
       " 2021-09-28  0.218384  0.541962  0.822330  3.272918  1.844933\n",
       " 2021-09-29 -1.539574  0.838420 -2.363661  1.579005  0.205660\n",
       " 2021-09-30  0.412593 -1.666125 -0.076985  1.320959 -0.959479,\n",
       " DatetimeIndex(['2021-10-01', '2021-10-02', '2021-10-03', '2021-10-04'], dtype='datetime64[ns]', freq='D'),\n",
       "                    A         B         C         D         C\n",
       " 2021-10-05 -0.845787  1.409765 -0.705643 -1.653317  0.435342\n",
       " 2021-10-06  1.967871 -0.354635 -0.509418 -0.210578  0.788403\n",
       " 2021-10-07 -1.514697  0.802711 -0.696016  0.255641 -1.766634]"
      ]
     },
     "execution_count": 66,
     "metadata": {},
     "output_type": "execute_result"
    }
   ],
   "source": [
    "df2"
   ]
  },
  {
   "cell_type": "code",
   "execution_count": null,
   "id": "8975e8c4",
   "metadata": {},
   "outputs": [],
   "source": []
  }
 ],
 "metadata": {
  "kernelspec": {
   "display_name": "Python 3 (ipykernel)",
   "language": "python",
   "name": "python3"
  },
  "language_info": {
   "codemirror_mode": {
    "name": "ipython",
    "version": 3
   },
   "file_extension": ".py",
   "mimetype": "text/x-python",
   "name": "python",
   "nbconvert_exporter": "python",
   "pygments_lexer": "ipython3",
   "version": "3.9.13"
  }
 },
 "nbformat": 4,
 "nbformat_minor": 5
}
